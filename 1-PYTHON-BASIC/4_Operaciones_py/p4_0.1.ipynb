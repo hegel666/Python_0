{
 "cells": [
  {
   "cell_type": "markdown",
   "id": "e74e5496",
   "metadata": {},
   "source": [
    "## Operaciones Aritmeticas"
   ]
  },
  {
   "cell_type": "code",
   "execution_count": null,
   "id": "4823b6e9",
   "metadata": {},
   "outputs": [],
   "source": [
    "#Operaciones"
   ]
  },
  {
   "cell_type": "code",
   "execution_count": 3,
   "id": "6f333d39",
   "metadata": {},
   "outputs": [
    {
     "data": {
      "text/plain": [
       "8"
      ]
     },
     "execution_count": 3,
     "metadata": {},
     "output_type": "execute_result"
    }
   ],
   "source": [
    "x,y = 3,5\n",
    "x+y "
   ]
  },
  {
   "cell_type": "code",
   "execution_count": null,
   "id": "4f26d129",
   "metadata": {},
   "outputs": [],
   "source": []
  },
  {
   "cell_type": "code",
   "execution_count": 2,
   "id": "2a15a3f4",
   "metadata": {},
   "outputs": [
    {
     "name": "stdout",
     "output_type": "stream",
     "text": [
      "La suma es = 15\n",
      "La diferencia es = -5\n",
      "El producto es = 50\n",
      "La division es = 0.5\n"
     ]
    }
   ],
   "source": [
    "#Las 4 operaciones\n",
    "\n",
    "a=5\n",
    "b=10\n",
    "\n",
    "s=a+b\n",
    "r=a-b\n",
    "m=a*b\n",
    "q=a/b\n",
    "\n",
    "print(\"La suma es =\",s)\n",
    "print(\"La diferencia es =\",r)\n",
    "print(\"El producto es =\",m)\n",
    "print(\"La division es =\",q)"
   ]
  },
  {
   "cell_type": "code",
   "execution_count": null,
   "id": "8bc2ea37",
   "metadata": {},
   "outputs": [],
   "source": []
  },
  {
   "cell_type": "markdown",
   "id": "9cdc2bf6",
   "metadata": {},
   "source": [
    "### La Division"
   ]
  },
  {
   "cell_type": "code",
   "execution_count": 4,
   "id": "936d85bb",
   "metadata": {},
   "outputs": [
    {
     "name": "stdout",
     "output_type": "stream",
     "text": [
      "La division es = 3.3333333333333335\n",
      "La division entera o cociente es = 3\n",
      "El residuo o modulo de la division es = 1\n"
     ]
    }
   ],
   "source": [
    "#La division\n",
    "\n",
    "a=10\n",
    "b=3\n",
    "\n",
    "print(\"La division es =\", a/b)\n",
    "print(\"La division entera o cociente es =\", a//b)\n",
    "\n",
    "#Uso del operador % (modulo o residuo)\n",
    "\n",
    "print(\"El residuo o modulo de la division es =\", a%b)\n"
   ]
  },
  {
   "cell_type": "markdown",
   "id": "40f50253",
   "metadata": {},
   "source": [
    "### La potenciacion"
   ]
  },
  {
   "cell_type": "code",
   "execution_count": 5,
   "id": "32b6ce03",
   "metadata": {},
   "outputs": [
    {
     "name": "stdout",
     "output_type": "stream",
     "text": [
      "La potencia de 2 a la 5 es = 32\n"
     ]
    }
   ],
   "source": [
    "# Operador de potenciacion : **\n",
    "x=2\n",
    "n=5\n",
    "\n",
    "p=2**5  #forma de expresar la potencia de base 2 elevado a la 5\n",
    "\n",
    "print(\"La potencia de\", x , \"a la\",n,\"es =\",p)"
   ]
  },
  {
   "cell_type": "code",
   "execution_count": null,
   "id": "5d040507",
   "metadata": {},
   "outputs": [],
   "source": []
  },
  {
   "cell_type": "markdown",
   "id": "da84e2cc",
   "metadata": {},
   "source": [
    "### Ejercicios"
   ]
  },
  {
   "cell_type": "code",
   "execution_count": 6,
   "id": "f31000ca",
   "metadata": {},
   "outputs": [
    {
     "name": "stdout",
     "output_type": "stream",
     "text": [
      "13.333333333333334\n"
     ]
    }
   ],
   "source": [
    "#Operaciones\n",
    "\n",
    "r=2**4+(10/3-(2*3))\n",
    "print(r)"
   ]
  },
  {
   "cell_type": "code",
   "execution_count": null,
   "id": "cfc47493",
   "metadata": {},
   "outputs": [],
   "source": []
  },
  {
   "cell_type": "markdown",
   "id": "d66ed468",
   "metadata": {},
   "source": [
    "##### Ejercicio: Calcular el IMC=Peso/Estatura^2"
   ]
  },
  {
   "cell_type": "code",
   "execution_count": 1,
   "id": "63dd674e",
   "metadata": {},
   "outputs": [
    {
     "name": "stdout",
     "output_type": "stream",
     "text": [
      "Ingrese Peso p=80\n",
      "Ingrese estatura e=1.76\n",
      "El IMC es = 25.826446280991735\n"
     ]
    }
   ],
   "source": [
    "#Ingreso de datos, formula matematica y resultado\n",
    "\n",
    "p=float(input(\"Ingrese Peso p=\"))\n",
    "e=float(input(\"Ingrese estatura e=\"))\n",
    "\n",
    "r=p/(e**2)\n",
    "\n",
    "print(\"El IMC es =\",r)"
   ]
  },
  {
   "cell_type": "code",
   "execution_count": null,
   "id": "b0c0bbad",
   "metadata": {},
   "outputs": [],
   "source": []
  },
  {
   "cell_type": "markdown",
   "id": "84cc07d2",
   "metadata": {},
   "source": [
    "#### Ejercicio: El area y longitud de circunferencia de radio r"
   ]
  },
  {
   "cell_type": "code",
   "execution_count": 2,
   "id": "b390dd39",
   "metadata": {},
   "outputs": [
    {
     "name": "stdout",
     "output_type": "stream",
     "text": [
      "Ingrese radio de circunferencia r=4\n",
      "El Area es= 50.2656\n",
      "La Longitud de su circunferencia es= 25.1328\n"
     ]
    }
   ],
   "source": [
    "#Ingreso de datos, formula matematica y resultado\n",
    "\n",
    "r=float(input(\"Ingrese radio de circunferencia r=\"))\n",
    "pi=3.1416\n",
    "\n",
    "A=pi*r**2\n",
    "L=2*pi*r\n",
    "\n",
    "print(\"El Area es=\",A)\n",
    "print(\"La Longitud de su circunferencia es=\",L)"
   ]
  },
  {
   "cell_type": "code",
   "execution_count": null,
   "id": "f81af820",
   "metadata": {},
   "outputs": [],
   "source": []
  },
  {
   "cell_type": "markdown",
   "id": "06f896fe",
   "metadata": {},
   "source": [
    "## Funciones integradas"
   ]
  },
  {
   "cell_type": "code",
   "execution_count": 3,
   "id": "4da31ea8",
   "metadata": {},
   "outputs": [
    {
     "name": "stdout",
     "output_type": "stream",
     "text": [
      "10\n"
     ]
    }
   ],
   "source": [
    "#Cambiar cadena a valor numerico entero\n",
    "n=int(\"10\")\n",
    "print(n)"
   ]
  },
  {
   "cell_type": "code",
   "execution_count": 4,
   "id": "9fb2501d",
   "metadata": {},
   "outputs": [
    {
     "name": "stdout",
     "output_type": "stream",
     "text": [
      "2.5\n"
     ]
    }
   ],
   "source": [
    "#Cambiar cadena a valor numerico float\n",
    "n=float(\"2.5\")\n",
    "print(n)"
   ]
  },
  {
   "cell_type": "code",
   "execution_count": 5,
   "id": "bc62c3a8",
   "metadata": {},
   "outputs": [
    {
     "name": "stdout",
     "output_type": "stream",
     "text": [
      "10.23\n"
     ]
    }
   ],
   "source": [
    "##Cambiar valor numerico a cadena\n",
    "n=str(10.23)\n",
    "print(n)"
   ]
  },
  {
   "cell_type": "code",
   "execution_count": null,
   "id": "46f763ec",
   "metadata": {},
   "outputs": [],
   "source": []
  },
  {
   "cell_type": "markdown",
   "id": "8c7880d4",
   "metadata": {},
   "source": [
    "### Conversiones de numeros: entero, binario, hexadecimal"
   ]
  },
  {
   "cell_type": "code",
   "execution_count": 6,
   "id": "a5a4b167",
   "metadata": {},
   "outputs": [
    {
     "name": "stdout",
     "output_type": "stream",
     "text": [
      "0b111\n"
     ]
    }
   ],
   "source": [
    "#Numero entero a binario\n",
    "#Pasar numero entero 7 a binario\n",
    "\n",
    "n=bin(7)\n",
    "print(n)\n",
    "#en el resultado 0b indica tipo binario de numero"
   ]
  },
  {
   "cell_type": "code",
   "execution_count": 7,
   "id": "a3be599d",
   "metadata": {},
   "outputs": [
    {
     "name": "stdout",
     "output_type": "stream",
     "text": [
      "10\n"
     ]
    }
   ],
   "source": [
    "#Numero binario a entero\n",
    "#pasar el binario 1010 a entero\n",
    "#1010(2)=1*2^3+1*2=10\n",
    "\n",
    "n=int(\"0b1010\",2)  #el 2 indica la base del numero\n",
    "print(n)\n"
   ]
  },
  {
   "cell_type": "code",
   "execution_count": 8,
   "id": "92bd2309",
   "metadata": {},
   "outputs": [
    {
     "name": "stdout",
     "output_type": "stream",
     "text": [
      "10\n"
     ]
    }
   ],
   "source": [
    "#Numero hexadecimal a entero\n",
    "#pasar el hexadecimal 0xa a entero\n",
    "\n",
    "n=int(\"0xa\",16)  #el 16 indica la base del numero\n",
    "print(n)\n"
   ]
  },
  {
   "cell_type": "code",
   "execution_count": 9,
   "id": "e04ba0e9",
   "metadata": {},
   "outputs": [
    {
     "name": "stdout",
     "output_type": "stream",
     "text": [
      "0x23\n"
     ]
    }
   ],
   "source": [
    "#Numero  entero hexadecimal \n",
    "#pasar el hexadecimal 0xa a entero\n",
    "\n",
    "n=hex(35)  #el 16 indica la base del numero\n",
    "print(n)"
   ]
  },
  {
   "cell_type": "code",
   "execution_count": 10,
   "id": "6ae853bd",
   "metadata": {},
   "outputs": [
    {
     "name": "stdout",
     "output_type": "stream",
     "text": [
      "0b1010\n"
     ]
    }
   ],
   "source": [
    "#Numero hexadecimal a binario\n",
    "#pasar el hexadecimal 0xa a binario\n",
    "#nota:     hexadecimal 0xa = 10 entero\n",
    "\n",
    "n=bin(0xa) \n",
    "print(n)\n"
   ]
  },
  {
   "cell_type": "code",
   "execution_count": 11,
   "id": "5650ff7c",
   "metadata": {},
   "outputs": [
    {
     "name": "stdout",
     "output_type": "stream",
     "text": [
      "0x17\n"
     ]
    }
   ],
   "source": [
    "#Numero  binario a hexadecimal\n",
    "#pasar el binario 10111 hexadecimal \n",
    "#nota:     binario 10111(2)=1*2^4+1*2^2+1*2+1 = 23 entero = 1*16+7 = hexadecimal 17(16)\n",
    "\n",
    "n=hex(0b10111) \n",
    "print(n)"
   ]
  },
  {
   "cell_type": "code",
   "execution_count": null,
   "id": "271d5111",
   "metadata": {},
   "outputs": [],
   "source": []
  },
  {
   "cell_type": "markdown",
   "id": "606c3998",
   "metadata": {},
   "source": [
    "### Redondeo"
   ]
  },
  {
   "cell_type": "code",
   "execution_count": 13,
   "id": "c5a84933",
   "metadata": {},
   "outputs": [
    {
     "name": "stdout",
     "output_type": "stream",
     "text": [
      "10\n",
      "10\n",
      "11\n"
     ]
    }
   ],
   "source": [
    "#redondear round los siguientes numeros\n",
    "\n",
    "n=round(10.2)\n",
    "m=round(10.5)\n",
    "r=round(10.7)\n",
    "\n",
    "print(n)\n",
    "print(m)\n",
    "print(r)"
   ]
  },
  {
   "cell_type": "markdown",
   "id": "6ee3126d",
   "metadata": {},
   "source": [
    "### Cantidad de caracteres de cadena"
   ]
  },
  {
   "cell_type": "code",
   "execution_count": 14,
   "id": "5211023a",
   "metadata": {},
   "outputs": [
    {
     "name": "stdout",
     "output_type": "stream",
     "text": [
      "9\n"
     ]
    }
   ],
   "source": [
    "#Cuantos carateres tiene la cadena\n",
    "n=len(\"Ocrospoma\")\n",
    "print(n)"
   ]
  },
  {
   "cell_type": "code",
   "execution_count": 15,
   "id": "67648ed9",
   "metadata": {},
   "outputs": [
    {
     "name": "stdout",
     "output_type": "stream",
     "text": [
      "15\n"
     ]
    }
   ],
   "source": [
    "#Cuantos carateres tiene la cadena\n",
    "n=len(\"Hegel Ocrospoma\")\n",
    "print(n)"
   ]
  },
  {
   "cell_type": "code",
   "execution_count": null,
   "id": "bb90afc7",
   "metadata": {},
   "outputs": [],
   "source": []
  }
 ],
 "metadata": {
  "kernelspec": {
   "display_name": "Python 3 (ipykernel)",
   "language": "python",
   "name": "python3"
  },
  "language_info": {
   "codemirror_mode": {
    "name": "ipython",
    "version": 3
   },
   "file_extension": ".py",
   "mimetype": "text/x-python",
   "name": "python",
   "nbconvert_exporter": "python",
   "pygments_lexer": "ipython3",
   "version": "3.11.5"
  }
 },
 "nbformat": 4,
 "nbformat_minor": 5
}
