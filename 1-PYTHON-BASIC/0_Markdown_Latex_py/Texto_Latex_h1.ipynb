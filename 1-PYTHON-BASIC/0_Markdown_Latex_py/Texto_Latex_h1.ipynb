{
 "cells": [
  {
   "cell_type": "markdown",
   "id": "0439b175",
   "metadata": {},
   "source": [
    "### Markdown and Latex (form Mathe)\n",
    "====================================="
   ]
  },
  {
   "cell_type": "markdown",
   "id": "008994d9",
   "metadata": {},
   "source": [
    "Expresion algebraica\n",
    "\n",
    "$$ x^{2}$$\n",
    "\n",
    "$$ f(x)=x^{2} +3x +5 $$\n",
    "\n",
    "$$ y=2x^{3}+3x^{2}-7x-5 $$\n",
    "\n",
    "$$x_{i} : x_{1}+x_{2}+x_{3}+....+x_{n}$$\n"
   ]
  },
  {
   "cell_type": "code",
   "execution_count": null,
   "id": "d9a6ea2f",
   "metadata": {},
   "outputs": [],
   "source": []
  },
  {
   "cell_type": "markdown",
   "id": "bbe39f9e",
   "metadata": {},
   "source": [
    "Area Circulo :\n",
    "\n",
    "$A=\\pi  \\times r^{2}$\n",
    "\n",
    "https://manualdelatex.com/simbolos\n",
    "\n",
    "http://www.alciro.org/alciro/Matematicas-Web-LaTeX_14/Simbolos-Matematicos-LaTeX_103.htm\n",
    "https://aprendeconalf.es/latex-manual/formulas.html\n"
   ]
  },
  {
   "cell_type": "code",
   "execution_count": null,
   "id": "3ae66429",
   "metadata": {},
   "outputs": [],
   "source": []
  },
  {
   "cell_type": "markdown",
   "id": "82234f6c",
   "metadata": {},
   "source": [
    "\n",
    "\n",
    "\n",
    "\n",
    "Sumatoria:\n",
    "$$ w=\\sum_{i=1}^{n}(x_{i}+y_{i})^{2}$$\n",
    "\n",
    "Integral infinita:\n",
    "\n",
    "$$\\int f(x)dx$$\n",
    "\n",
    "Integral finita:\n",
    "\n",
    "$$\\int_{a}^{b} f(x)dx$$"
   ]
  },
  {
   "cell_type": "code",
   "execution_count": null,
   "id": "529631dd",
   "metadata": {},
   "outputs": [],
   "source": []
  },
  {
   "cell_type": "markdown",
   "id": "cd7a78c9",
   "metadata": {},
   "source": [
    "$Y=XW$\n",
    "\n",
    "$B=X^{T}$\n",
    "\n",
    "$Inv=X^{-1}$"
   ]
  },
  {
   "cell_type": "code",
   "execution_count": null,
   "id": "6f9abea6",
   "metadata": {},
   "outputs": [],
   "source": []
  },
  {
   "cell_type": "markdown",
   "id": "81dbea8e",
   "metadata": {},
   "source": [
    "$\\beta=(X^{T}X)^{-1}X^{T}Y$"
   ]
  },
  {
   "cell_type": "code",
   "execution_count": null,
   "id": "bf59dfb8",
   "metadata": {},
   "outputs": [],
   "source": []
  }
 ],
 "metadata": {
  "kernelspec": {
   "display_name": "Python 3 (ipykernel)",
   "language": "python",
   "name": "python3"
  },
  "language_info": {
   "codemirror_mode": {
    "name": "ipython",
    "version": 3
   },
   "file_extension": ".py",
   "mimetype": "text/x-python",
   "name": "python",
   "nbconvert_exporter": "python",
   "pygments_lexer": "ipython3",
   "version": "3.11.5"
  }
 },
 "nbformat": 4,
 "nbformat_minor": 5
}
