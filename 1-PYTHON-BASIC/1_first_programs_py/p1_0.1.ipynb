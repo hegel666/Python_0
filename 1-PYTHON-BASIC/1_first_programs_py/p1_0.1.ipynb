{
 "cells": [
  {
   "cell_type": "markdown",
   "id": "edefcdc8",
   "metadata": {},
   "source": [
    "# Firts program"
   ]
  },
  {
   "cell_type": "code",
   "execution_count": 3,
   "id": "16bba03d",
   "metadata": {},
   "outputs": [],
   "source": [
    "# En Jupyter,  para ejecutar cada bloque de codigo python:\n",
    "\n",
    "# Shift  + Enter"
   ]
  },
  {
   "cell_type": "code",
   "execution_count": 1,
   "id": "a46e3780",
   "metadata": {},
   "outputs": [],
   "source": [
    "#comentario en una linea"
   ]
  },
  {
   "cell_type": "code",
   "execution_count": 2,
   "id": "51ec26a1",
   "metadata": {},
   "outputs": [
    {
     "name": "stdout",
     "output_type": "stream",
     "text": [
      "Hello world\n"
     ]
    }
   ],
   "source": [
    "\n",
    "#show  message :  \"hello world\"\n",
    "\n",
    "print(\"Hello world\")\n",
    "\n"
   ]
  },
  {
   "cell_type": "code",
   "execution_count": null,
   "id": "4d0ffef7",
   "metadata": {},
   "outputs": [],
   "source": []
  },
  {
   "cell_type": "code",
   "execution_count": 1,
   "id": "52b4d381",
   "metadata": {},
   "outputs": [
    {
     "name": "stdout",
     "output_type": "stream",
     "text": [
      "hola\n",
      "mundo\n"
     ]
    }
   ],
   "source": [
    "#Salto de linea tacito\n",
    "\n",
    "print(\"hola\")\n",
    "print(\"mundo\")"
   ]
  },
  {
   "cell_type": "code",
   "execution_count": null,
   "id": "12d13d42",
   "metadata": {},
   "outputs": [],
   "source": []
  },
  {
   "cell_type": "code",
   "execution_count": 2,
   "id": "e918218b",
   "metadata": {},
   "outputs": [
    {
     "name": "stdout",
     "output_type": "stream",
     "text": [
      "hola\n",
      "mundo\n"
     ]
    }
   ],
   "source": [
    "#En una sola linea hacer salto de linea\n",
    "\n",
    "print(\"hola\\nmundo\")"
   ]
  },
  {
   "cell_type": "code",
   "execution_count": 4,
   "id": "a4fde0a1",
   "metadata": {},
   "outputs": [
    {
     "name": "stdout",
     "output_type": "stream",
     "text": [
      "hola\tmundo\n"
     ]
    }
   ],
   "source": [
    "#En una sola linea hacer salto de tabulacion\n",
    "\n",
    "print(\"hola\\tmundo\")"
   ]
  },
  {
   "cell_type": "code",
   "execution_count": 5,
   "id": "bab7303a",
   "metadata": {},
   "outputs": [
    {
     "name": "stdout",
     "output_type": "stream",
     "text": [
      "hola\t\tmundo\n"
     ]
    }
   ],
   "source": [
    "#En una sola linea hacer salto de tabulacion\n",
    "\n",
    "print(\"hola\\t\\tmundo\")"
   ]
  },
  {
   "cell_type": "code",
   "execution_count": null,
   "id": "a2795ae7",
   "metadata": {},
   "outputs": [],
   "source": []
  }
 ],
 "metadata": {
  "kernelspec": {
   "display_name": "Python 3 (ipykernel)",
   "language": "python",
   "name": "python3"
  },
  "language_info": {
   "codemirror_mode": {
    "name": "ipython",
    "version": 3
   },
   "file_extension": ".py",
   "mimetype": "text/x-python",
   "name": "python",
   "nbconvert_exporter": "python",
   "pygments_lexer": "ipython3",
   "version": "3.11.5"
  }
 },
 "nbformat": 4,
 "nbformat_minor": 5
}
