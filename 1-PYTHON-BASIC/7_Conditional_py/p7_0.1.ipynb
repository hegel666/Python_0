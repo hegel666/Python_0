{
 "cells": [
  {
   "cell_type": "markdown",
   "id": "1be9acba",
   "metadata": {},
   "source": [
    "## CONDICIONAL\n",
    "Son de las estructuras de control mas importantes de la programacion\n",
    "##     if ---- else "
   ]
  },
  {
   "cell_type": "code",
   "execution_count": 1,
   "id": "1204ef09",
   "metadata": {},
   "outputs": [],
   "source": [
    "# ===================\n",
    "\n",
    "#   if (condicion):\n",
    "#\n",
    "#   instruccion1\n",
    "#\n",
    "#   else:\n",
    "# \n",
    "#   instruccion2\n",
    "\n",
    "\n",
    "# ==================="
   ]
  },
  {
   "cell_type": "code",
   "execution_count": 3,
   "id": "87592b0f",
   "metadata": {},
   "outputs": [
    {
     "name": "stdout",
     "output_type": "stream",
     "text": [
      "Ingrese un numero diferente de cero:-5\n",
      "El numero -5 es NEGATIVO\n"
     ]
    }
   ],
   "source": [
    "n=int(input(\"Ingrese un numero diferente de cero:\"))\n",
    "\n",
    "if n>0:\n",
    "    print(f\"El numero {n} es POSITIVO\")\n",
    "else:\n",
    "    print(f\"El numero {n} es NEGATIVO\")\n"
   ]
  },
  {
   "cell_type": "code",
   "execution_count": 4,
   "id": "aa75af59",
   "metadata": {},
   "outputs": [
    {
     "name": "stdout",
     "output_type": "stream",
     "text": [
      "Ingrese un numero:2\n",
      "El numero = 2\n",
      "Es POSITIVO\n"
     ]
    }
   ],
   "source": [
    "n=int(input(\"Ingrese un numero:\"))\n",
    "\n",
    "if n>0:\n",
    "    print(\"El numero =\", n)\n",
    "    print(\"Es POSITIVO\")\n",
    "else:\n",
    "    print(\"El numero =\", n)\n",
    "    print(\"Es NEGATIVO\")\n"
   ]
  },
  {
   "cell_type": "code",
   "execution_count": 5,
   "id": "834f6ded",
   "metadata": {},
   "outputs": [
    {
     "name": "stdout",
     "output_type": "stream",
     "text": [
      "Ingrese un numero:3\n",
      "El numero 3 es POSITIVO\n",
      "Fin del programa\n"
     ]
    }
   ],
   "source": [
    "#\n",
    "n=int(input(\"Ingrese un numero:\"))\n",
    "\n",
    "if n>0:\n",
    "    print(f\"El numero {n} es POSITIVO\")\n",
    "elif n==0:\n",
    "    print(\"El numero es cero\")\n",
    "else:\n",
    "    print(f\"El numero {n} es NEGATIVO\")\n",
    "    \n",
    "print(\"Fin del programa\")"
   ]
  },
  {
   "cell_type": "code",
   "execution_count": null,
   "id": "576530a4",
   "metadata": {},
   "outputs": [],
   "source": []
  },
  {
   "cell_type": "markdown",
   "id": "c09188c6",
   "metadata": {},
   "source": [
    "## Ejercicios"
   ]
  },
  {
   "cell_type": "code",
   "execution_count": null,
   "id": "93dfc56d",
   "metadata": {},
   "outputs": [],
   "source": []
  },
  {
   "cell_type": "code",
   "execution_count": null,
   "id": "d112940b",
   "metadata": {},
   "outputs": [],
   "source": []
  },
  {
   "cell_type": "code",
   "execution_count": null,
   "id": "0057cd0b",
   "metadata": {},
   "outputs": [],
   "source": []
  },
  {
   "cell_type": "code",
   "execution_count": null,
   "id": "934d1e6c",
   "metadata": {},
   "outputs": [],
   "source": []
  }
 ],
 "metadata": {
  "kernelspec": {
   "display_name": "Python 3 (ipykernel)",
   "language": "python",
   "name": "python3"
  },
  "language_info": {
   "codemirror_mode": {
    "name": "ipython",
    "version": 3
   },
   "file_extension": ".py",
   "mimetype": "text/x-python",
   "name": "python",
   "nbconvert_exporter": "python",
   "pygments_lexer": "ipython3",
   "version": "3.11.5"
  }
 },
 "nbformat": 4,
 "nbformat_minor": 5
}
