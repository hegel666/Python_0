{
 "cells": [
  {
   "cell_type": "markdown",
   "id": "b19f4eca",
   "metadata": {},
   "source": [
    "## BUCLES:  WHILE , FOR"
   ]
  },
  {
   "cell_type": "markdown",
   "id": "c5636528",
   "metadata": {},
   "source": [
    "Bucle o ciclo es un bloque de codigo que se va repetir un numero indeterminado o determinado de veces\n",
    "\n"
   ]
  },
  {
   "cell_type": "markdown",
   "id": "41e5660d",
   "metadata": {},
   "source": [
    "Nota : Tanto en **while** y en **for** se considera indexacion no es necesario { }, solo estar dentro de ellos"
   ]
  },
  {
   "cell_type": "markdown",
   "id": "8c601315",
   "metadata": {},
   "source": [
    "## Bucle While\n",
    "\n",
    "Mientras la condicion es verdadera ejecutar bloque de sentencias"
   ]
  },
  {
   "cell_type": "code",
   "execution_count": 1,
   "id": "3b58e96d",
   "metadata": {},
   "outputs": [
    {
     "name": "stdout",
     "output_type": "stream",
     "text": [
      "Hola\n",
      "Hola\n",
      "Hola\n",
      "Hola\n",
      "Hola\n",
      "Hola\n"
     ]
    }
   ],
   "source": [
    "#Mostrar en forma repetida un mensaje una cantidad de veces\n",
    "\n",
    "i=0 #definimos la variable iteradora, inicializamos\n",
    "\n",
    "while i<6: # MIENTRAS la condicion sea verdadera (condicion de variable i iterador) se ejecutara el bloque\n",
    "    print(\"Hola\")\n",
    "    i += 1  # permite aumentar la variable i en 1 en cada bucle o ciclo\n",
    "            # Se sale del bucle cuando condicion es falsa"
   ]
  },
  {
   "cell_type": "code",
   "execution_count": 2,
   "id": "6b72839a",
   "metadata": {},
   "outputs": [
    {
     "name": "stdout",
     "output_type": "stream",
     "text": [
      "Ingrese un numero: 2\n",
      "Su raiz cuadrada es 1.41\n"
     ]
    }
   ],
   "source": [
    "# Usar while para evitar colocar numero negativo para calcular raiz cuadrada de un numero\n",
    "# En este caso el bucle es indeterminado si se coloca numero negativo\n",
    "\n",
    "import math\n",
    "n=int(input(\"Ingrese un numero: \"))\n",
    "\n",
    "while n<0:\n",
    "    print(\"Error --> Ingresar numero positivo\")\n",
    "    n=int(input(\"Ingrese un numero: \"))\n",
    "    \n",
    "r=math.sqrt(n)\n",
    "print(f\"Su raiz cuadrada es {r:.2f}\")  # .2f indica que muestre 2 digitos decimales"
   ]
  },
  {
   "cell_type": "code",
   "execution_count": 3,
   "id": "53a09165",
   "metadata": {},
   "outputs": [
    {
     "name": "stdout",
     "output_type": "stream",
     "text": [
      "0\n",
      "1\n",
      "2\n",
      "3\n",
      "4\n",
      "5\n"
     ]
    }
   ],
   "source": [
    "#\n",
    "\n",
    "i=0\n",
    "\n",
    "while i<6:\n",
    "    print(i)\n",
    "    i += 1  \n",
    "    "
   ]
  },
  {
   "cell_type": "code",
   "execution_count": null,
   "id": "f0f1e371",
   "metadata": {},
   "outputs": [],
   "source": []
  },
  {
   "cell_type": "code",
   "execution_count": null,
   "id": "44108510",
   "metadata": {},
   "outputs": [],
   "source": []
  },
  {
   "cell_type": "code",
   "execution_count": null,
   "id": "83f8d0ce",
   "metadata": {},
   "outputs": [],
   "source": []
  },
  {
   "cell_type": "code",
   "execution_count": null,
   "id": "6fb2ba9d",
   "metadata": {},
   "outputs": [],
   "source": []
  },
  {
   "cell_type": "markdown",
   "id": "51627ad9",
   "metadata": {},
   "source": [
    "## Bucle For\n",
    "Es un bucle que ejecuta un número determinado de iteracciones. Es decir nosotros a priori vamos a saber cuantas veces se va a repetir el bucle.\n",
    "\n",
    "La sintaxis de este bucle no es muy similar a la de otros lenguajes de programación como C o C++.\n"
   ]
  },
  {
   "cell_type": "code",
   "execution_count": 10,
   "id": "22208b0b",
   "metadata": {},
   "outputs": [
    {
     "name": "stdout",
     "output_type": "stream",
     "text": [
      "Hola\n",
      "Hola\n",
      "Hola\n",
      "Hola\n",
      "Hola\n"
     ]
    }
   ],
   "source": [
    "for i in [2,6,3,1,8]:\n",
    "    print(\"Hola\")"
   ]
  },
  {
   "cell_type": "code",
   "execution_count": 2,
   "id": "169431bc",
   "metadata": {},
   "outputs": [
    {
     "name": "stdout",
     "output_type": "stream",
     "text": [
      "2\n",
      "6\n",
      "3\n",
      "1\n",
      "8\n"
     ]
    }
   ],
   "source": [
    "for i in [2,6,3,1,8]:\n",
    "    print(i)"
   ]
  },
  {
   "cell_type": "code",
   "execution_count": 5,
   "id": "190dde01",
   "metadata": {},
   "outputs": [
    {
     "name": "stdout",
     "output_type": "stream",
     "text": [
      "Elementos de la lista: 2\n",
      "Elementos de la lista: 6\n",
      "Elementos de la lista: 3\n",
      "Elementos de la lista: 1\n",
      "Elementos de la lista: Luis\n"
     ]
    }
   ],
   "source": [
    "for i in [2,6,3,1,\"Luis\"]:\n",
    "    print(f\"Elementos de la lista: {i}\")"
   ]
  },
  {
   "cell_type": "code",
   "execution_count": 6,
   "id": "b91b9949",
   "metadata": {},
   "outputs": [
    {
     "name": "stdout",
     "output_type": "stream",
     "text": [
      "Elementos de la lista: 2\n",
      "Elementos de la lista: 6\n",
      "Elementos de la lista: 3\n",
      "Elementos de la lista: 1\n",
      "Elementos de la lista: Luis\n"
     ]
    }
   ],
   "source": [
    "coleccion1 = [2,6,3,1,\"Luis\"] # coleccion de tipo Lista\n",
    "\n",
    "for i in coleccion1 :\n",
    "    print(f\"Elementos de la lista: {i}\")"
   ]
  },
  {
   "cell_type": "code",
   "execution_count": 8,
   "id": "233cc107",
   "metadata": {},
   "outputs": [
    {
     "name": "stdout",
     "output_type": "stream",
     "text": [
      "Elementos de la tupla: 2\n",
      "Elementos de la tupla: 6\n",
      "Elementos de la tupla: 3\n",
      "Elementos de la tupla: 1\n",
      "Elementos de la tupla: Luis\n"
     ]
    }
   ],
   "source": [
    "coleccion1 = (2,6,3,1,\"Luis\") # coleccion de tipo Tupla\n",
    "\n",
    "for i in coleccion1 :\n",
    "    print(f\"Elementos de la tupla: {i}\")"
   ]
  },
  {
   "cell_type": "code",
   "execution_count": null,
   "id": "0ede6fe1",
   "metadata": {},
   "outputs": [],
   "source": []
  },
  {
   "cell_type": "code",
   "execution_count": 3,
   "id": "4c6ba4df",
   "metadata": {},
   "outputs": [
    {
     "name": "stdout",
     "output_type": "stream",
     "text": [
      "4\n",
      "78\n",
      "9\n",
      "84\n"
     ]
    }
   ],
   "source": [
    "nums = [4, 78, 9, 84]\n",
    "for n in nums:\n",
    "    print(n)"
   ]
  },
  {
   "cell_type": "code",
   "execution_count": null,
   "id": "c18f7a11",
   "metadata": {},
   "outputs": [],
   "source": []
  },
  {
   "cell_type": "code",
   "execution_count": null,
   "id": "d4fdd5a4",
   "metadata": {},
   "outputs": [],
   "source": []
  },
  {
   "cell_type": "code",
   "execution_count": 2,
   "id": "55cea0c2",
   "metadata": {},
   "outputs": [
    {
     "name": "stdout",
     "output_type": "stream",
     "text": [
      "m m m "
     ]
    }
   ],
   "source": [
    "n=20\n",
    "for i in [1, 2, 3]:\n",
    "    print(\"m\", end=\" \")"
   ]
  },
  {
   "cell_type": "code",
   "execution_count": 1,
   "id": "6351fb87",
   "metadata": {},
   "outputs": [
    {
     "name": "stdout",
     "output_type": "stream",
     "text": [
      "hola hola hola hola hola hola "
     ]
    }
   ],
   "source": [
    "for i in [1, 2, 3, 4, 5, 6]:\n",
    " print(\"hola \", end=\"\")"
   ]
  },
  {
   "cell_type": "code",
   "execution_count": 20,
   "id": "0423d0a2",
   "metadata": {},
   "outputs": [
    {
     "name": "stdout",
     "output_type": "stream",
     "text": [
      "Hola Hola Hola Hola Hola "
     ]
    }
   ],
   "source": [
    "for i in [2,6,3,1,8]:\n",
    "    print(\"Hola\", end=\" \")"
   ]
  },
  {
   "cell_type": "code",
   "execution_count": 13,
   "id": "e30d1f8e",
   "metadata": {},
   "outputs": [
    {
     "name": "stdout",
     "output_type": "stream",
     "text": [
      "0\n",
      "1\n",
      "2\n",
      "3\n",
      "4\n",
      "5\n"
     ]
    }
   ],
   "source": [
    "for i in range(6):\n",
    "    print(i)"
   ]
  },
  {
   "cell_type": "code",
   "execution_count": 16,
   "id": "0d2dc0a1",
   "metadata": {},
   "outputs": [
    {
     "name": "stdout",
     "output_type": "stream",
     "text": [
      "m\n",
      "m\n",
      "m\n",
      "m\n"
     ]
    }
   ],
   "source": [
    "for i in range(4):\n",
    "    print(\"m\")"
   ]
  },
  {
   "cell_type": "code",
   "execution_count": 17,
   "id": "fde18aeb",
   "metadata": {},
   "outputs": [
    {
     "name": "stdout",
     "output_type": "stream",
     "text": [
      "m m m m "
     ]
    }
   ],
   "source": [
    "for i in range(4):\n",
    "    print(\"m\",end=\" \")"
   ]
  },
  {
   "cell_type": "code",
   "execution_count": 18,
   "id": "87e59d6b",
   "metadata": {},
   "outputs": [
    {
     "name": "stdout",
     "output_type": "stream",
     "text": [
      "m m m m "
     ]
    }
   ],
   "source": [
    "n=4\n",
    "for i in range(n):\n",
    "    print(\"m\",end=\" \")"
   ]
  },
  {
   "cell_type": "code",
   "execution_count": null,
   "id": "dd02b4f4",
   "metadata": {},
   "outputs": [],
   "source": [
    "## Mostrar por pantalla una secuencia de numeros iguales (n = 20) que linea a linea disminuya de 1 en 1 hasta la unidad, \n",
    "## formando un triangulo de numeros en descenso. "
   ]
  },
  {
   "cell_type": "code",
   "execution_count": 19,
   "id": "54f23f6a",
   "metadata": {},
   "outputs": [
    {
     "name": "stdout",
     "output_type": "stream",
     "text": [
      "20  20  20  20  20  20  20  20  20  20  20  20  20  20  20  20  20  20  20  20  \n",
      "\n",
      "19  19  19  19  19  19  19  19  19  19  19  19  19  19  19  19  19  19  19  \n",
      "\n",
      "18  18  18  18  18  18  18  18  18  18  18  18  18  18  18  18  18  18  \n",
      "\n",
      "17  17  17  17  17  17  17  17  17  17  17  17  17  17  17  17  17  \n",
      "\n",
      "16  16  16  16  16  16  16  16  16  16  16  16  16  16  16  16  \n",
      "\n",
      "15  15  15  15  15  15  15  15  15  15  15  15  15  15  15  \n",
      "\n",
      "14  14  14  14  14  14  14  14  14  14  14  14  14  14  \n",
      "\n",
      "13  13  13  13  13  13  13  13  13  13  13  13  13  \n",
      "\n",
      "12  12  12  12  12  12  12  12  12  12  12  12  \n",
      "\n",
      "11  11  11  11  11  11  11  11  11  11  11  \n",
      "\n",
      "10  10  10  10  10  10  10  10  10  10  \n",
      "\n",
      "9  9  9  9  9  9  9  9  9  \n",
      "\n",
      "8  8  8  8  8  8  8  8  \n",
      "\n",
      "7  7  7  7  7  7  7  \n",
      "\n",
      "6  6  6  6  6  6  \n",
      "\n",
      "5  5  5  5  5  \n",
      "\n",
      "4  4  4  4  \n",
      "\n",
      "3  3  3  \n",
      "\n",
      "2  2  \n",
      "\n",
      "1  \n",
      "\n"
     ]
    }
   ],
   "source": [
    "#Problema 3, \n",
    "\n",
    "n=20\n",
    "while n>0:\n",
    " for i in range(n):\n",
    "     print(n,\" \", end=\"\")\n",
    " n=n-1\n",
    " print(\"\\n\")\n"
   ]
  },
  {
   "cell_type": "code",
   "execution_count": null,
   "id": "51f8b6cc",
   "metadata": {},
   "outputs": [],
   "source": []
  }
 ],
 "metadata": {
  "kernelspec": {
   "display_name": "Python 3 (ipykernel)",
   "language": "python",
   "name": "python3"
  },
  "language_info": {
   "codemirror_mode": {
    "name": "ipython",
    "version": 3
   },
   "file_extension": ".py",
   "mimetype": "text/x-python",
   "name": "python",
   "nbconvert_exporter": "python",
   "pygments_lexer": "ipython3",
   "version": "3.11.5"
  }
 },
 "nbformat": 4,
 "nbformat_minor": 5
}
