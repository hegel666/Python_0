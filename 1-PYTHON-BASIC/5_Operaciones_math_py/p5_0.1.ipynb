{
 "cells": [
  {
   "cell_type": "markdown",
   "id": "f5afb6ba",
   "metadata": {},
   "source": [
    "## Operaciones Mathematics Advance"
   ]
  },
  {
   "cell_type": "markdown",
   "id": "220b2725",
   "metadata": {},
   "source": [
    "### Se usara la  libreria:    math"
   ]
  },
  {
   "cell_type": "markdown",
   "id": "132ef8ac",
   "metadata": {},
   "source": [
    "#### Ejercicio: Calcular la longitud y area de circunferencia de radio  r "
   ]
  },
  {
   "cell_type": "code",
   "execution_count": 6,
   "id": "9fb88663",
   "metadata": {},
   "outputs": [
    {
     "name": "stdout",
     "output_type": "stream",
     "text": [
      "3.141592653589793\n"
     ]
    }
   ],
   "source": [
    "import math\n",
    "\n",
    "value_pi=math.pi\n",
    "\n",
    "print(value_pi)"
   ]
  },
  {
   "cell_type": "code",
   "execution_count": 13,
   "id": "077c6c04",
   "metadata": {},
   "outputs": [
    {
     "name": "stdout",
     "output_type": "stream",
     "text": [
      "Ingrese angulo en grados Sex.60\n",
      "El angulo 60 en radianes es= 1.047\n"
     ]
    }
   ],
   "source": [
    "import math\n",
    "\n",
    "#input\n",
    "\n",
    "s=int(input(\"Ingrese angulo en grados Sex =\"))\n",
    "\n",
    "r=math.pi*s/180\n",
    "\n",
    "#print(\"El angulo en radianes es=\", r)\n",
    "\n",
    "print(f\"El angulo {s} en radianes es= {r:.3f}\")\n"
   ]
  },
  {
   "cell_type": "code",
   "execution_count": null,
   "id": "c5f476fa",
   "metadata": {},
   "outputs": [],
   "source": []
  },
  {
   "cell_type": "code",
   "execution_count": 1,
   "id": "341bc292",
   "metadata": {},
   "outputs": [
    {
     "name": "stdout",
     "output_type": "stream",
     "text": [
      "Ingrese radio de circunferencia r=1\n",
      "La Longitud de circunferencia es= 6.283\n",
      "El Area es= 3.142\n"
     ]
    }
   ],
   "source": [
    "#Se usara libreria math, para usar pi , == >  math.pi \n",
    "import math\n",
    "\n",
    "\n",
    "#input\n",
    "r=float(input(\"Ingrese radio de circunferencia r=\"))\n",
    "\n",
    "#algoritmo\n",
    "A=math.pi*r**2\n",
    "L=2*math.pi*r\n",
    "\n",
    "#output\n",
    "print(\"La Longitud de circunferencia es=\",round(L,3))\n",
    "print(\"El Area es=\",round(A,3))\n"
   ]
  },
  {
   "cell_type": "code",
   "execution_count": null,
   "id": "aa112d2d",
   "metadata": {},
   "outputs": [],
   "source": []
  },
  {
   "cell_type": "code",
   "execution_count": 14,
   "id": "63e66515",
   "metadata": {},
   "outputs": [
    {
     "name": "stdout",
     "output_type": "stream",
     "text": [
      "Ingrese angulo en grados Sex.60\n",
      "El seno del angulo es= 0.866\n",
      "El coseno del angulo es= 0.5\n"
     ]
    }
   ],
   "source": [
    "import math\n",
    "\n",
    "\n",
    "# Calculate the sine and cosine of an angle\n",
    "#input\n",
    "\n",
    "s=int(input(\"Ingrese angulo en grados Sex.\"))\n",
    "\n",
    "r=math.pi*s/180\n",
    "\n",
    "seno=math.sin(r)\n",
    "coseno=math.cos(r)\n",
    "\n",
    "print(\"El seno del angulo es=\",round(seno,3) )\n",
    "print(\"El coseno del angulo es=\",round(coseno,3) )\n"
   ]
  },
  {
   "cell_type": "code",
   "execution_count": 20,
   "id": "edd15bb1",
   "metadata": {},
   "outputs": [
    {
     "name": "stdout",
     "output_type": "stream",
     "text": [
      "Ingrese angulo en grados = 60\n",
      "\n",
      "\n",
      "El seno del angulo 60 es=0.866\n",
      "El coseno del angulo 60  es=0.500\n"
     ]
    }
   ],
   "source": [
    "import math\n",
    "\n",
    "\n",
    "# Calculate the sine and cosine of an angle\n",
    "#input\n",
    "\n",
    "s=int(input(\"Ingrese angulo en grados = \"))\n",
    "\n",
    "r=math.pi*s/180\n",
    "\n",
    "seno=math.sin(r)\n",
    "coseno=math.cos(r)\n",
    "\n",
    "print(\"\\n\")\n",
    "\n",
    "print(f\"El seno del angulo {s} es={seno:.3f}\")\n",
    "print(f\"El coseno del angulo {s}  es={coseno:.3f}\")\n"
   ]
  },
  {
   "cell_type": "code",
   "execution_count": 29,
   "id": "b985f727",
   "metadata": {},
   "outputs": [
    {
     "name": "stdout",
     "output_type": "stream",
     "text": [
      "Ingrese angulo en grados = 45\n",
      "The coordinates of the point on the unit circle at angle pi/4.0 radians\n",
      "Are :  (0.7071, 0.7071).\n"
     ]
    }
   ],
   "source": [
    "import math\n",
    "\n",
    "# Calculate the sine and cosine of an angle\n",
    "#input\n",
    "\n",
    "s=int(input(\"Ingrese angulo en grados = \"))\n",
    "\n",
    "r=math.pi*s/180\n",
    "x_coordinate = math.cos(r)\n",
    "y_coordinate = math.sin(r)\n",
    "\n",
    "print(f\"The coordinates of the point on the unit circle at angle pi/{(180/s)} radians\")\n",
    "print(f\"Are :  ({x_coordinate:.4f}, {y_coordinate:.4f}).\")\n"
   ]
  },
  {
   "cell_type": "code",
   "execution_count": null,
   "id": "47621031",
   "metadata": {},
   "outputs": [],
   "source": []
  },
  {
   "cell_type": "code",
   "execution_count": null,
   "id": "5ff543c8",
   "metadata": {},
   "outputs": [],
   "source": []
  },
  {
   "cell_type": "markdown",
   "id": "363f7515",
   "metadata": {},
   "source": [
    "### Se usara la  libreria:    numpy"
   ]
  },
  {
   "cell_type": "markdown",
   "id": "608f33d2",
   "metadata": {},
   "source": [
    "#### Ejercicio: Calcular la longitud y area de circunferencia de radio  r "
   ]
  },
  {
   "cell_type": "code",
   "execution_count": 2,
   "id": "f48c3ccb",
   "metadata": {},
   "outputs": [
    {
     "name": "stdout",
     "output_type": "stream",
     "text": [
      "Ingrese radio de circunferencia r=6\n",
      "La Longitud de su circunferencia es= 37.699\n",
      "El Area es= 113.097\n"
     ]
    }
   ],
   "source": [
    "#Se usara libreria numpy, para usar pi\n",
    "\n",
    "import numpy as np\n",
    "\n",
    "r=float(input(\"Ingrese radio de circunferencia r=\"))\n",
    "\n",
    "L=2*np.pi*r\n",
    "A=np.pi*r**2\n",
    "\n",
    "print(\"La Longitud de su circunferencia es=\",round(L,3))\n",
    "print(\"El Area es=\",round(A,3))"
   ]
  },
  {
   "cell_type": "code",
   "execution_count": null,
   "id": "7980787f",
   "metadata": {},
   "outputs": [],
   "source": []
  },
  {
   "cell_type": "markdown",
   "id": "e6755d3e",
   "metadata": {},
   "source": [
    "## Mathematics Operations"
   ]
  },
  {
   "cell_type": "markdown",
   "id": "7ec1d915",
   "metadata": {},
   "source": [
    "### Square root of a number\n",
    "La libreria **math** permite usar la funcion raiz cuardrada   **sqrt**"
   ]
  },
  {
   "cell_type": "code",
   "execution_count": 2,
   "id": "f6efd232",
   "metadata": {},
   "outputs": [
    {
     "name": "stdout",
     "output_type": "stream",
     "text": [
      "Enter a number: 4\n",
      "The square root of 4.0 is = 2.0\n"
     ]
    }
   ],
   "source": [
    "#Calculate the square root of a number\n",
    "# la libreria math permite usar la funcion raiz cuardrada   sqrt,   ===>  math.sqrt\n",
    "\n",
    "import math\n",
    "\n",
    "num=float(input(\"Enter a number: \"))\n",
    "\n",
    "r=math.sqrt(num)\n",
    "\n",
    "print(\"The square root of\",num, \"is =\",r)"
   ]
  },
  {
   "cell_type": "code",
   "execution_count": null,
   "id": "d34888ff",
   "metadata": {},
   "outputs": [],
   "source": []
  },
  {
   "cell_type": "code",
   "execution_count": 4,
   "id": "19381588",
   "metadata": {},
   "outputs": [
    {
     "name": "stdout",
     "output_type": "stream",
     "text": [
      "Enter a number: 4\n",
      "The square root of 4.0 is = 2.0\n"
     ]
    }
   ],
   "source": [
    "#Calculate the square root of a number\n",
    "# la libreria math permite usar la funcion raiz cuardrada   sqrt,   ===>  math.sqrt\n",
    "\n",
    "import math\n",
    "\n",
    "num=float(input(\"Enter a number: \"))\n",
    "\n",
    "sqrt_num=math.sqrt(num)\n",
    "\n",
    "print(f\"The square root of {num} is = {sqrt_num}\")"
   ]
  },
  {
   "cell_type": "code",
   "execution_count": null,
   "id": "6eea5426",
   "metadata": {},
   "outputs": [],
   "source": []
  },
  {
   "cell_type": "markdown",
   "id": "11462545",
   "metadata": {},
   "source": [
    "### Solve quadratic equation"
   ]
  },
  {
   "cell_type": "code",
   "execution_count": 6,
   "id": "e0ec3815",
   "metadata": {},
   "outputs": [
    {
     "name": "stdout",
     "output_type": "stream",
     "text": [
      "Enter coeffient of the quadratic equation\n",
      "Ingrese numero a=3\n",
      "Ingrese numero b=4\n",
      "Ingrese numero c=5\n",
      "The discriminat is= -44\n",
      "The roots are -0.6666666666666666 + 1.1055415967851332 i   and   -0.6666666666666666 - 1.1055415967851332 i\n"
     ]
    }
   ],
   "source": [
    "#Solve quadratic equation\n",
    "\n",
    "import math \n",
    "\n",
    "print(\"Enter coeffient of the quadratic equation\")\n",
    "a=int(input(\"Ingrese numero a=\"))\n",
    "b=int(input(\"Ingrese numero b=\"))\n",
    "c=int(input(\"Ingrese numero c=\"))\n",
    "\n",
    "D=b**2-4*a*c\n",
    "print(\"The discriminat is=\", D)\n",
    "\n",
    "if D >=0:\n",
    "    r1=(-b+math.sqrt(D))/(2*a)\n",
    "    r2=(-b-math.sqrt(D))/(2*a)\n",
    "    print(f\"The roots are {r1} and {r2} \")\n",
    "else:\n",
    "    r_real=-b/(2*a)\n",
    "    r_imag=math.sqrt(-D)/(2*a)\n",
    "    print(f\"The roots are {r_real} + {r_imag} i   and   {r_real} - {r_imag} i\" )\n",
    "    "
   ]
  },
  {
   "cell_type": "code",
   "execution_count": null,
   "id": "6856ea19",
   "metadata": {},
   "outputs": [],
   "source": []
  },
  {
   "cell_type": "code",
   "execution_count": 30,
   "id": "9417cba8",
   "metadata": {},
   "outputs": [
    {
     "name": "stdout",
     "output_type": "stream",
     "text": [
      "Ingrese valor n : 5\n",
      "El factoria de 5 es = 120\n"
     ]
    }
   ],
   "source": [
    "import math\n",
    "\n",
    "\n",
    "# Calculate the factorial\n",
    "#input\n",
    "\n",
    "n=int(input(\"Ingrese valor n : \"))\n",
    "\n",
    "f=math.factorial(n)\n",
    "\n",
    "print(f\"El factorial de {n} es = {f}\")"
   ]
  },
  {
   "cell_type": "code",
   "execution_count": 35,
   "id": "a9a63bcf",
   "metadata": {},
   "outputs": [
    {
     "name": "stdout",
     "output_type": "stream",
     "text": [
      "Ingrese valor n : 10\n",
      "Ingrese valor k : 3\n",
      "El combinatorio de 10 en 3 es= 120\n"
     ]
    }
   ],
   "source": [
    "\n",
    "# Calculate the Combinatorio de n en k\n",
    "#input\n",
    "\n",
    "\n",
    "n=int(input(\"Ingrese valor n : \"))\n",
    "k=int(input(\"Ingrese valor k : \"))\n",
    "\n",
    "c=math.comb(n,k)\n",
    "\n",
    "print(f\"El combinatorio de {n} en {k} es= {c}\")"
   ]
  },
  {
   "cell_type": "code",
   "execution_count": null,
   "id": "67df5743",
   "metadata": {},
   "outputs": [],
   "source": []
  },
  {
   "cell_type": "code",
   "execution_count": null,
   "id": "e67f0e1b",
   "metadata": {},
   "outputs": [],
   "source": []
  },
  {
   "cell_type": "code",
   "execution_count": null,
   "id": "d777ea42",
   "metadata": {},
   "outputs": [],
   "source": []
  },
  {
   "cell_type": "code",
   "execution_count": null,
   "id": "99f48996",
   "metadata": {},
   "outputs": [],
   "source": []
  },
  {
   "cell_type": "code",
   "execution_count": null,
   "id": "6da2d679",
   "metadata": {},
   "outputs": [],
   "source": []
  },
  {
   "cell_type": "code",
   "execution_count": null,
   "id": "f5dbc2e3",
   "metadata": {},
   "outputs": [],
   "source": []
  },
  {
   "cell_type": "markdown",
   "id": "0ceaccde",
   "metadata": {},
   "source": [
    "## From ChapGPT"
   ]
  },
  {
   "cell_type": "code",
   "execution_count": 3,
   "id": "06f41e35",
   "metadata": {},
   "outputs": [
    {
     "name": "stdout",
     "output_type": "stream",
     "text": [
      "Enter a number: 9\n",
      "The square root of 9.0 is = 3.0\n"
     ]
    }
   ],
   "source": [
    "#Calculate the square root of a number\n",
    "import math\n",
    "\n",
    "#input\n",
    "num=float(input(\"Enter a number: \"))\n",
    "\n",
    "#algoritmo\n",
    "sqrt_num=math.sqrt(num)\n",
    "\n",
    "#output\n",
    "print(\"The square root of\",num, \"is =\",sqrt_num)\n"
   ]
  },
  {
   "cell_type": "code",
   "execution_count": null,
   "id": "546e953a",
   "metadata": {},
   "outputs": [],
   "source": []
  },
  {
   "cell_type": "code",
   "execution_count": 2,
   "id": "2d056a03",
   "metadata": {},
   "outputs": [
    {
     "name": "stdout",
     "output_type": "stream",
     "text": [
      "Enter coeffient of the quadratic equation\n",
      "Ingrese numero a=2\n",
      "Ingrese numero b=4\n",
      "Ingrese numero c=5\n",
      "The discriminat is= -24\n",
      "The roots are -1.0 + 1.224744871391589 i and -1.0 - 1.224744871391589 i\n"
     ]
    }
   ],
   "source": [
    "#Solve quadratic equation\n",
    "import math \n",
    "print(\"Enter coeffient of the quadratic equation\")\n",
    "a=int(input(\"Ingrese numero a=\"))\n",
    "b=int(input(\"Ingrese numero b=\"))\n",
    "c=int(input(\"Ingrese numero c=\"))\n",
    "D=b**2-4*a*c\n",
    "print(\"The discriminat is=\", D)\n",
    "if D >=0:\n",
    "    r1=(-b+math.sqrt(D))/(2*a)\n",
    "    r2=(-b-math.sqrt(D))/(2*a)\n",
    "    print(\"The roots are\",r1, \"and\",r2 )\n",
    "else:\n",
    "    r_real=-b/(2*a)\n",
    "    r_imag=math.sqrt(-D)/(2*a)\n",
    "    print(\"The roots are\", r_real, \"+\", r_imag,\"i\", \"and\",r_real, \"-\", r_imag,\"i\" )\n",
    "    "
   ]
  },
  {
   "cell_type": "code",
   "execution_count": null,
   "id": "f519a529",
   "metadata": {},
   "outputs": [],
   "source": []
  },
  {
   "cell_type": "code",
   "execution_count": null,
   "id": "7c329609",
   "metadata": {},
   "outputs": [],
   "source": []
  }
 ],
 "metadata": {
  "kernelspec": {
   "display_name": "Python 3 (ipykernel)",
   "language": "python",
   "name": "python3"
  },
  "language_info": {
   "codemirror_mode": {
    "name": "ipython",
    "version": 3
   },
   "file_extension": ".py",
   "mimetype": "text/x-python",
   "name": "python",
   "nbconvert_exporter": "python",
   "pygments_lexer": "ipython3",
   "version": "3.11.5"
  }
 },
 "nbformat": 4,
 "nbformat_minor": 5
}
