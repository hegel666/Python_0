{
 "cells": [
  {
   "cell_type": "markdown",
   "id": "641cc999",
   "metadata": {},
   "source": [
    "### CADENA"
   ]
  },
  {
   "cell_type": "code",
   "execution_count": 7,
   "id": "9a12f31e",
   "metadata": {},
   "outputs": [
    {
     "name": "stdout",
     "output_type": "stream",
     "text": [
      "Hello world\n"
     ]
    }
   ],
   "source": [
    "#Write program \"hello world\"\n",
    "\n",
    "print(\"Hello world\")"
   ]
  },
  {
   "cell_type": "code",
   "execution_count": null,
   "id": "04125fb2",
   "metadata": {},
   "outputs": [],
   "source": []
  },
  {
   "cell_type": "code",
   "execution_count": 4,
   "id": "45a6aa50",
   "metadata": {},
   "outputs": [
    {
     "name": "stdout",
     "output_type": "stream",
     "text": [
      "c\n",
      "<class 'str'>\n"
     ]
    }
   ],
   "source": [
    "caracter = 'c'\n",
    "print(caracter)\n",
    "print(type(caracter))\n"
   ]
  },
  {
   "cell_type": "code",
   "execution_count": 5,
   "id": "dae6da3c",
   "metadata": {},
   "outputs": [
    {
     "name": "stdout",
     "output_type": "stream",
     "text": [
      "Maria\n",
      "<class 'str'>\n"
     ]
    }
   ],
   "source": [
    "\n",
    "cadena1 = 'Maria'\n",
    "\n",
    "print(cadena1)\n",
    "print(type(cadena1))\n"
   ]
  },
  {
   "cell_type": "code",
   "execution_count": 6,
   "id": "a5d305f8",
   "metadata": {},
   "outputs": [
    {
     "name": "stdout",
     "output_type": "stream",
     "text": [
      "A juan de niño le decian 'bad boy' por travieso\n"
     ]
    }
   ],
   "source": [
    "#Dentro de una cadena mostrar una cadena entre comillas\n",
    "\n",
    "cadena = \"A juan de niño le decian 'bad boy' por travieso\"\n",
    "print(cadena)"
   ]
  },
  {
   "cell_type": "code",
   "execution_count": 8,
   "id": "7a0707bb",
   "metadata": {},
   "outputs": [
    {
     "name": "stdout",
     "output_type": "stream",
     "text": [
      "Ingrese su nombreHEGEL\n",
      "HEGEL\n"
     ]
    }
   ],
   "source": [
    "nombre=input(\"Ingrese su nombre\")\n",
    "print(nombre)"
   ]
  },
  {
   "cell_type": "code",
   "execution_count": null,
   "id": "3a58698c",
   "metadata": {},
   "outputs": [],
   "source": []
  },
  {
   "cell_type": "code",
   "execution_count": 9,
   "id": "b2962d87",
   "metadata": {},
   "outputs": [
    {
     "name": "stdout",
     "output_type": "stream",
     "text": [
      "Ingrese su nombre y apellidos: hEGEL \n",
      "Su nombre es hEGEL \n"
     ]
    }
   ],
   "source": [
    "#puede ingresar nombre y apellido\n",
    "nombre_apellidos=input(\"Ingrese su nombre y apellidos: \")\n",
    "print(f\"Su nombre es {nombre_apellidos}\")"
   ]
  },
  {
   "cell_type": "code",
   "execution_count": 10,
   "id": "da32e0de",
   "metadata": {},
   "outputs": [
    {
     "name": "stdout",
     "output_type": "stream",
     "text": [
      "El nombre es Maria, su profesion es enfermera y su edad es 25\n"
     ]
    }
   ],
   "source": [
    "nombre=\"Maria\"\n",
    "profesion=\"enfermera\"\n",
    "edad=25\n",
    "\n",
    "print(\"El nombre es {}, su profesion es {} y su edad es {}\".format(nombre,profesion,edad,))"
   ]
  },
  {
   "cell_type": "code",
   "execution_count": null,
   "id": "b05e8857",
   "metadata": {},
   "outputs": [],
   "source": []
  }
 ],
 "metadata": {
  "kernelspec": {
   "display_name": "Python 3 (ipykernel)",
   "language": "python",
   "name": "python3"
  },
  "language_info": {
   "codemirror_mode": {
    "name": "ipython",
    "version": 3
   },
   "file_extension": ".py",
   "mimetype": "text/x-python",
   "name": "python",
   "nbconvert_exporter": "python",
   "pygments_lexer": "ipython3",
   "version": "3.11.5"
  }
 },
 "nbformat": 4,
 "nbformat_minor": 5
}
