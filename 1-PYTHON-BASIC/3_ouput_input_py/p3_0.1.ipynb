{
 "cells": [
  {
   "cell_type": "markdown",
   "id": "bab828fe",
   "metadata": {},
   "source": [
    "### OUTPUT   and   INPUT"
   ]
  },
  {
   "cell_type": "code",
   "execution_count": null,
   "id": "4cc92e75",
   "metadata": {},
   "outputs": [],
   "source": []
  },
  {
   "cell_type": "markdown",
   "id": "9df22cc6",
   "metadata": {},
   "source": [
    "## Output standar of  data from console"
   ]
  },
  {
   "cell_type": "code",
   "execution_count": null,
   "id": "d4816e18",
   "metadata": {},
   "outputs": [],
   "source": [
    "# Salida de datos o mensaje\n",
    "\n",
    "# print(\"Mensaje\")\n"
   ]
  },
  {
   "cell_type": "code",
   "execution_count": 1,
   "id": "ba5d54c0",
   "metadata": {},
   "outputs": [
    {
     "name": "stdout",
     "output_type": "stream",
     "text": [
      "Hello world\n"
     ]
    }
   ],
   "source": [
    "#Write program \"hello world\"\n",
    "\n",
    "print(\"Hello world\")"
   ]
  },
  {
   "cell_type": "code",
   "execution_count": 2,
   "id": "5aeaa963",
   "metadata": {},
   "outputs": [
    {
     "name": "stdout",
     "output_type": "stream",
     "text": [
      "hola\n",
      "mundo\n"
     ]
    }
   ],
   "source": [
    "#Salto de linea tacito\n",
    "\n",
    "print(\"hola\")\n",
    "print(\"mundo\")"
   ]
  },
  {
   "cell_type": "code",
   "execution_count": 3,
   "id": "216f0011",
   "metadata": {},
   "outputs": [
    {
     "name": "stdout",
     "output_type": "stream",
     "text": [
      "hola\n",
      "mundo\n"
     ]
    }
   ],
   "source": [
    "#En una sola linea hacer salto de linea\n",
    "\n",
    "print(\"hola\\nmundo\")"
   ]
  },
  {
   "cell_type": "code",
   "execution_count": null,
   "id": "1872551b",
   "metadata": {},
   "outputs": [],
   "source": []
  },
  {
   "cell_type": "code",
   "execution_count": null,
   "id": "21170911",
   "metadata": {},
   "outputs": [],
   "source": []
  },
  {
   "cell_type": "markdown",
   "id": "9e50a9c1",
   "metadata": {},
   "source": [
    "## Output standar of  data from console\n",
    "show or printer output of data"
   ]
  },
  {
   "cell_type": "markdown",
   "id": "59d2848b",
   "metadata": {},
   "source": [
    "### Forma 1"
   ]
  },
  {
   "cell_type": "code",
   "execution_count": 1,
   "id": "d8b312d7",
   "metadata": {},
   "outputs": [
    {
     "name": "stdout",
     "output_type": "stream",
     "text": [
      "10\n",
      "The number is= 10\n"
     ]
    }
   ],
   "source": [
    "a=10\n",
    "print(a)\n",
    "print(\"The number is=\",a)"
   ]
  },
  {
   "cell_type": "code",
   "execution_count": 1,
   "id": "eb888008",
   "metadata": {},
   "outputs": [
    {
     "name": "stdout",
     "output_type": "stream",
     "text": [
      "Carlos\n"
     ]
    }
   ],
   "source": [
    "nombre=\"Carlos\"\n",
    "print(nombre)"
   ]
  },
  {
   "cell_type": "code",
   "execution_count": 2,
   "id": "2353b439",
   "metadata": {},
   "outputs": [
    {
     "name": "stdout",
     "output_type": "stream",
     "text": [
      "El nombre es Maria Su profesion es enfermera , su edad es 25\n"
     ]
    }
   ],
   "source": [
    "# Data\n",
    "nombre=\"Maria\"\n",
    "edad=25\n",
    "profesion=\"enfermera\"\n",
    "\n",
    "#output\n",
    "\n",
    "print(\"El nombre es\",nombre,\"Su profesion es\",profesion,\", su edad es\",edad)\n"
   ]
  },
  {
   "cell_type": "markdown",
   "id": "46dc8d59",
   "metadata": {},
   "source": [
    "### Forma 2"
   ]
  },
  {
   "cell_type": "code",
   "execution_count": 3,
   "id": "bc2fc7bd",
   "metadata": {},
   "outputs": [
    {
     "name": "stdout",
     "output_type": "stream",
     "text": [
      "El numero 4 es par\n"
     ]
    }
   ],
   "source": [
    "# usando la funcion:   format,   {}\n",
    "a=4\n",
    "\n",
    "print(\"El numero {} es par\".format(a))"
   ]
  },
  {
   "cell_type": "code",
   "execution_count": 4,
   "id": "35f5edfe",
   "metadata": {},
   "outputs": [
    {
     "name": "stdout",
     "output_type": "stream",
     "text": [
      "El principe Carlos es el nuevo rey\n"
     ]
    }
   ],
   "source": [
    "nombre=\"Carlos\"\n",
    "\n",
    "print(\"El principe {} es el nuevo rey\".format(nombre))"
   ]
  },
  {
   "cell_type": "code",
   "execution_count": 5,
   "id": "7c352cb7",
   "metadata": {},
   "outputs": [
    {
     "name": "stdout",
     "output_type": "stream",
     "text": [
      "El nombre es Maria, su profesion es enfermera y su edad es 25\n"
     ]
    }
   ],
   "source": [
    "nombre=\"Maria\"\n",
    "profesion=\"enfermera\"\n",
    "edad=25\n",
    "\n",
    "print(\"El nombre es {}, su profesion es {} y su edad es {}\".format(nombre,profesion,edad,))"
   ]
  },
  {
   "cell_type": "code",
   "execution_count": null,
   "id": "7fe3cf38",
   "metadata": {},
   "outputs": [],
   "source": []
  },
  {
   "cell_type": "markdown",
   "id": "462e9d26",
   "metadata": {},
   "source": [
    "### Forma 3"
   ]
  },
  {
   "cell_type": "code",
   "execution_count": 6,
   "id": "c94c0e17",
   "metadata": {},
   "outputs": [
    {
     "name": "stdout",
     "output_type": "stream",
     "text": [
      "El numero 4 es par\n"
     ]
    }
   ],
   "source": [
    "#Se antepone f antes de las comillas y dentro del mensaje se coloca {variable} \n",
    "\n",
    "a=4\n",
    "print(f\"El numero {a} es par\")"
   ]
  },
  {
   "cell_type": "code",
   "execution_count": 7,
   "id": "2295eecc",
   "metadata": {},
   "outputs": [
    {
     "name": "stdout",
     "output_type": "stream",
     "text": [
      "El principe Carlos es el nuevo rey\n"
     ]
    }
   ],
   "source": [
    "nombre=\"Carlos\"\n",
    "print(f\"El principe {nombre} es el nuevo rey\")"
   ]
  },
  {
   "cell_type": "code",
   "execution_count": null,
   "id": "43cd944d",
   "metadata": {},
   "outputs": [],
   "source": []
  },
  {
   "cell_type": "markdown",
   "id": "ba71b70f",
   "metadata": {},
   "source": [
    "## Entrada de datos por consola"
   ]
  },
  {
   "cell_type": "markdown",
   "id": "16274f69",
   "metadata": {},
   "source": [
    "### Tipo cadena"
   ]
  },
  {
   "cell_type": "code",
   "execution_count": null,
   "id": "6102ef5e",
   "metadata": {},
   "outputs": [],
   "source": [
    "# Se usa la funcion input, \n",
    "#Al ingresar datos cadena a traves de input se genera un dato en memoria \n",
    "# el cual se puede mostrar con la funcion print o tambien para usarlo en otras operaciones\n",
    "#\n"
   ]
  },
  {
   "cell_type": "code",
   "execution_count": 1,
   "id": "e2606a03",
   "metadata": {},
   "outputs": [
    {
     "name": "stdout",
     "output_type": "stream",
     "text": [
      "Hegel\n",
      "Hegel\n"
     ]
    }
   ],
   "source": [
    "#input\n",
    "nombre=input()\n",
    "\n",
    "#output\n",
    "print(nombre)\n",
    "\n"
   ]
  },
  {
   "cell_type": "code",
   "execution_count": 2,
   "id": "1c2bcf2a",
   "metadata": {},
   "outputs": [
    {
     "name": "stdout",
     "output_type": "stream",
     "text": [
      "Ingrese su nombre:Carlos\n",
      "Carlos\n"
     ]
    }
   ],
   "source": [
    "nombre=input(\"Ingrese su nombre:\")\n",
    "\n",
    "print(nombre)"
   ]
  },
  {
   "cell_type": "code",
   "execution_count": 3,
   "id": "bdb091b0",
   "metadata": {},
   "outputs": [
    {
     "name": "stdout",
     "output_type": "stream",
     "text": [
      "Ingrese su nombre: Hegel\n",
      "Su nombre es Hegel\n",
      "Su nombre es Hegel\n",
      "Su nombre es Hegel\n"
     ]
    }
   ],
   "source": [
    "#input\n",
    "nombre=input(\"Ingrese su nombre: \")\n",
    "\n",
    "#output en sus 3 formas \n",
    "\n",
    "print(\"Su nombre es\",nombre)\n",
    "print(\"Su nombre es {}\".format(nombre))\n",
    "print(f\"Su nombre es {nombre}\")\n"
   ]
  },
  {
   "cell_type": "code",
   "execution_count": 5,
   "id": "ed1e73f6",
   "metadata": {},
   "outputs": [
    {
     "name": "stdout",
     "output_type": "stream",
     "text": [
      "Ingrese su nombre y apellidos: Hegel Ocrospoma Noel\n",
      "Su nombre es:  Hegel Ocrospoma Noel\n"
     ]
    }
   ],
   "source": [
    "#puede ingresar nombre y apellido\n",
    "#esta forma permite poner cadenas dejando espacio\n",
    "\n",
    "#input\n",
    "nombre_apellidos=input(\"Ingrese su nombre y apellidos: \")\n",
    "\n",
    "#output\n",
    "print(f\"Su nombre es:  {nombre_apellidos}\")"
   ]
  },
  {
   "cell_type": "code",
   "execution_count": null,
   "id": "464e18cb",
   "metadata": {},
   "outputs": [],
   "source": []
  },
  {
   "cell_type": "code",
   "execution_count": null,
   "id": "5f3591ef",
   "metadata": {},
   "outputs": [],
   "source": []
  },
  {
   "cell_type": "code",
   "execution_count": null,
   "id": "bd387ad1",
   "metadata": {},
   "outputs": [],
   "source": []
  },
  {
   "cell_type": "markdown",
   "id": "e2924bde",
   "metadata": {},
   "source": [
    "### Tipo numerico"
   ]
  },
  {
   "cell_type": "code",
   "execution_count": null,
   "id": "88c4791f",
   "metadata": {},
   "outputs": [],
   "source": [
    "# Se usa la funcion input, \n",
    "#Al ingresar datos numerico a traves de input se genera un dato cadena en memoria \n",
    "# El cual hay que \"transformar\" a tipo especifico de dato numerico : int , float\n",
    "# el cual se puede mostrar con la funcion print o tambien para usarlo en otras operaciones"
   ]
  },
  {
   "cell_type": "code",
   "execution_count": 6,
   "id": "97b9a02d",
   "metadata": {},
   "outputs": [
    {
     "name": "stdout",
     "output_type": "stream",
     "text": [
      "Ingrese numero: 6\n",
      "El numero es= 6\n"
     ]
    }
   ],
   "source": [
    "#Procedimiento por pasos\n",
    "#Ingreso de datos enteros\n",
    "\n",
    "#input\n",
    "dato=input(\"Ingrese numero: \") #el resultado es una cadena\n",
    "a=int(dato) #hay que transformarlo a entero para almacenarlo a la variable a\n",
    "\n",
    "#output\n",
    "print(\"El numero es=\",a)\n"
   ]
  },
  {
   "cell_type": "code",
   "execution_count": 14,
   "id": "f487d153",
   "metadata": {},
   "outputs": [
    {
     "name": "stdout",
     "output_type": "stream",
     "text": [
      "Ingrese numero entero a=5\n",
      "El numero es= 5\n"
     ]
    }
   ],
   "source": [
    "#Procedimiento directamente\n",
    "#Ingreso de datos enteros\n",
    "\n",
    "a=int(input(\"Ingrese numero entero a=\")) # el input cadena se pasa a entero\n",
    "\n",
    "print(\"El numero es=\",a)"
   ]
  },
  {
   "cell_type": "code",
   "execution_count": 1,
   "id": "62f9c0b3",
   "metadata": {},
   "outputs": [
    {
     "name": "stdout",
     "output_type": "stream",
     "text": [
      "Ingrese numero a=4\n",
      "Ingrese numero b=3\n",
      "La suma de a+b es= 7\n"
     ]
    }
   ],
   "source": [
    "\n",
    "#input\n",
    "a=int(input(\"Ingrese numero a=\"))\n",
    "b=int(input(\"Ingrese numero b=\"))\n",
    "\n",
    "#algoritmo\n",
    "s=a+b\n",
    "\n",
    "#output\n",
    "print(\"La suma de a+b es=\",s)\n"
   ]
  },
  {
   "cell_type": "code",
   "execution_count": null,
   "id": "411a54a6",
   "metadata": {},
   "outputs": [],
   "source": []
  },
  {
   "cell_type": "code",
   "execution_count": null,
   "id": "6c13ac39",
   "metadata": {},
   "outputs": [],
   "source": []
  },
  {
   "cell_type": "code",
   "execution_count": null,
   "id": "b3e01137",
   "metadata": {},
   "outputs": [],
   "source": []
  },
  {
   "cell_type": "code",
   "execution_count": 15,
   "id": "38d5adfb",
   "metadata": {},
   "outputs": [
    {
     "name": "stdout",
     "output_type": "stream",
     "text": [
      "Ingrese numero real x=7\n",
      "El numero es= 7.0\n"
     ]
    }
   ],
   "source": [
    "#Ingreso de datos float\n",
    "\n",
    "x=float(input(\"Ingrese numero real x=\"))\n",
    "\n",
    "print(\"El numero es=\",x)\n"
   ]
  },
  {
   "cell_type": "code",
   "execution_count": null,
   "id": "597c2e8c",
   "metadata": {},
   "outputs": [],
   "source": []
  },
  {
   "cell_type": "markdown",
   "id": "1da9d2a4",
   "metadata": {},
   "source": [
    "#### Usando ingreso de datos numericos y salida forma3"
   ]
  },
  {
   "cell_type": "code",
   "execution_count": 3,
   "id": "e45a9f77",
   "metadata": {},
   "outputs": [
    {
     "name": "stdout",
     "output_type": "stream",
     "text": [
      "Ingrese numero real y= 3\n",
      "El numero es= 3.0\n"
     ]
    }
   ],
   "source": [
    "\n",
    "y=float(input(\"Ingrese numero real y= \"))\n",
    "\n",
    "print(f\"El numero es= {y}\")"
   ]
  },
  {
   "cell_type": "code",
   "execution_count": null,
   "id": "49ea01ad",
   "metadata": {},
   "outputs": [],
   "source": []
  },
  {
   "cell_type": "code",
   "execution_count": 2,
   "id": "c7a70989",
   "metadata": {},
   "outputs": [
    {
     "name": "stdout",
     "output_type": "stream",
     "text": [
      "Ingrese numero real b= 3\n",
      "El numero es= 6\n"
     ]
    }
   ],
   "source": [
    "\n",
    "b=int(input(\"Ingrese numero real b= \"))\n",
    "\n",
    "print(f\"El numero es= {b+3}\")\n"
   ]
  },
  {
   "cell_type": "code",
   "execution_count": null,
   "id": "3066898d",
   "metadata": {},
   "outputs": [],
   "source": []
  }
 ],
 "metadata": {
  "kernelspec": {
   "display_name": "Python 3 (ipykernel)",
   "language": "python",
   "name": "python3"
  },
  "language_info": {
   "codemirror_mode": {
    "name": "ipython",
    "version": 3
   },
   "file_extension": ".py",
   "mimetype": "text/x-python",
   "name": "python",
   "nbconvert_exporter": "python",
   "pygments_lexer": "ipython3",
   "version": "3.11.5"
  }
 },
 "nbformat": 4,
 "nbformat_minor": 5
}
