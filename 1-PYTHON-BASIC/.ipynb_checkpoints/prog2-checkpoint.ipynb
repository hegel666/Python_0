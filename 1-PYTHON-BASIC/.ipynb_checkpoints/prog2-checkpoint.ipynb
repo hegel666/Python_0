{
 "cells": [
  {
   "cell_type": "markdown",
   "id": "0a6dad2d",
   "metadata": {},
   "source": [
    "## From ChapGPT"
   ]
  },
  {
   "cell_type": "code",
   "execution_count": 2,
   "id": "f41c1a51",
   "metadata": {},
   "outputs": [
    {
     "name": "stdout",
     "output_type": "stream",
     "text": [
      "Enter a number: 81\n",
      "The square root of 81.0 is = 9.0\n"
     ]
    }
   ],
   "source": [
    "#Calculate the square root of a number\n",
    "import math\n",
    "num=float(input(\"Enter a number: \"))\n",
    "sqrt_num=math.sqrt(num)\n",
    "print(\"The square root of\",num, \"is =\",sqrt_num)"
   ]
  },
  {
   "cell_type": "code",
   "execution_count": 6,
   "id": "b65a4e8a",
   "metadata": {},
   "outputs": [
    {
     "name": "stdout",
     "output_type": "stream",
     "text": [
      "Enter coeffient of the quadratic equation\n",
      "Ingrese numero a=1\n",
      "Ingrese numero b=-3\n",
      "Ingrese numero c=2\n",
      "The discriminat is= 1\n",
      "The roots are 2.0 and 1.0\n"
     ]
    }
   ],
   "source": [
    "#Solve quadratic equation\n",
    "import math \n",
    "print(\"Enter coeffient of the quadratic equation\")\n",
    "a=int(input(\"Ingrese numero a=\"))\n",
    "b=int(input(\"Ingrese numero b=\"))\n",
    "c=int(input(\"Ingrese numero c=\"))\n",
    "D=b**2-4*a*c\n",
    "print(\"The discriminat is=\", D)\n",
    "if D >=0:\n",
    "    r1=(-b+math.sqrt(D))/(2*a)\n",
    "    r2=(-b-math.sqrt(D))/(2*a)\n",
    "    print(\"The roots are\",r1, \"and\",r2 )\n",
    "else:\n",
    "    r_real=-b/(2*a)\n",
    "    r_imag=math.sqrt(-D)/(2*a)\n",
    "    print(\"The roots are\", r_real, \"+\", r_imag,\"i\", \"and\",r_real, \"-\", r_imag,\"i\" )\n",
    "    "
   ]
  },
  {
   "cell_type": "code",
   "execution_count": null,
   "id": "9993c5f2",
   "metadata": {},
   "outputs": [],
   "source": []
  }
 ],
 "metadata": {
  "kernelspec": {
   "display_name": "Python 3",
   "language": "python",
   "name": "python3"
  },
  "language_info": {
   "codemirror_mode": {
    "name": "ipython",
    "version": 3
   },
   "file_extension": ".py",
   "mimetype": "text/x-python",
   "name": "python",
   "nbconvert_exporter": "python",
   "pygments_lexer": "ipython3",
   "version": "3.8.8"
  }
 },
 "nbformat": 4,
 "nbformat_minor": 5
}
