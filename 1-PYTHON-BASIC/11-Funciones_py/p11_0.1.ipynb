{
 "cells": [
  {
   "cell_type": "markdown",
   "id": "f5e17532",
   "metadata": {},
   "source": [
    "## Functions"
   ]
  },
  {
   "cell_type": "code",
   "execution_count": 1,
   "id": "19c26833",
   "metadata": {},
   "outputs": [],
   "source": [
    "# ===================================\n",
    "#  def  name_function1 (arg1, arg2)\n",
    "#   comando 1\n",
    "#   comando2\n",
    "\n",
    "# name_function1 (a1, a2)\n",
    "\n",
    "# ================================\n",
    "\n",
    "#  def   name_function ()\n",
    "#    comando1\n",
    "#    comando2\n",
    "\n",
    "#  name_function ()\n",
    "\n",
    "# ====================================\n"
   ]
  },
  {
   "cell_type": "code",
   "execution_count": 2,
   "id": "d6a3a08d",
   "metadata": {},
   "outputs": [
    {
     "name": "stdout",
     "output_type": "stream",
     "text": [
      "Hola mi primera funcion saludar() en Python\n"
     ]
    }
   ],
   "source": [
    "def saludar():\n",
    "    print(\"Hola mi primera funcion saludar() en Python\")\n",
    "    \n",
    "saludar()"
   ]
  },
  {
   "cell_type": "code",
   "execution_count": 3,
   "id": "88b9b820",
   "metadata": {},
   "outputs": [
    {
     "name": "stdout",
     "output_type": "stream",
     "text": [
      "Hola1\n",
      "Hola2\n"
     ]
    }
   ],
   "source": [
    "#Crear funcion \n",
    "\n",
    "def funcion1():   #definicion de la funcion\n",
    "    print(\"Hola1\") #bloque de sentencias de la funcion\n",
    "    print(\"Hola2\")\n",
    "    \n",
    "funcion1() #llamada a la funcion"
   ]
  },
  {
   "cell_type": "code",
   "execution_count": 4,
   "id": "0f06b3ac",
   "metadata": {},
   "outputs": [
    {
     "name": "stdout",
     "output_type": "stream",
     "text": [
      "Ingrese numero x =3\n",
      "La potencia cubica de 3.0 es = 27.0\n"
     ]
    }
   ],
   "source": [
    "#Crear funcion exponencial cubica de un numero\n",
    "\n",
    "def cubica():     #definicion de la funcion\n",
    "    x=float(input(\"Ingrese numero x =\")) #bloque de sentencias de la funcion\n",
    "    y=x**3\n",
    "    print(f\"La potencia cubica de {x} es = {y}\")\n",
    "    \n",
    "cubica() #llamada a la funcion\n"
   ]
  },
  {
   "cell_type": "code",
   "execution_count": 5,
   "id": "475c5940",
   "metadata": {},
   "outputs": [
    {
     "name": "stdout",
     "output_type": "stream",
     "text": [
      "5.0\n"
     ]
    }
   ],
   "source": [
    "def nombre_funcion1(arg1, arg2, arg3):\n",
    "    suma = arg1 + arg2 + arg3\n",
    "    media = suma/3\n",
    "    return media\n",
    "\n",
    "media1= nombre_funcion1(2,4,9)\n",
    "print(media1)"
   ]
  },
  {
   "cell_type": "code",
   "execution_count": 6,
   "id": "445d1466",
   "metadata": {},
   "outputs": [
    {
     "name": "stdout",
     "output_type": "stream",
     "text": [
      "El promedio es 5.0\n"
     ]
    }
   ],
   "source": [
    "def nombre_funcion1(arg1, arg2, arg3):\n",
    "    promedio = (arg1 + arg2 + arg3)/3\n",
    "    return promedio\n",
    "\n",
    "promedio1= nombre_funcion1(2,4,9)\n",
    "print(f\"El promedio es {promedio1}\")"
   ]
  },
  {
   "cell_type": "code",
   "execution_count": 7,
   "id": "0c33157b",
   "metadata": {},
   "outputs": [
    {
     "data": {
      "text/plain": [
       "13"
      ]
     },
     "execution_count": 7,
     "metadata": {},
     "output_type": "execute_result"
    }
   ],
   "source": [
    "def cuadratic_1(x):\n",
    "    return x*x+x+1\n",
    "\n",
    "\n",
    "\n",
    "cuadratic_1(3)"
   ]
  },
  {
   "cell_type": "code",
   "execution_count": 9,
   "id": "b44740cb",
   "metadata": {},
   "outputs": [
    {
     "name": "stdout",
     "output_type": "stream",
     "text": [
      "Ingrese valor de variable x =4\n",
      "El resultado es \n"
     ]
    },
    {
     "data": {
      "text/plain": [
       "45.0"
      ]
     },
     "execution_count": 9,
     "metadata": {},
     "output_type": "execute_result"
    }
   ],
   "source": [
    "\n",
    "def cuadratic_1(x):\n",
    "    return 3*x*x-2*x+5\n",
    "\n",
    "\n",
    "m=float(input(\"Ingrese valor de variable x =\"))\n",
    "print(f\"El resultado es \")\n",
    "cuadratic_1(m)"
   ]
  },
  {
   "cell_type": "code",
   "execution_count": null,
   "id": "24fe5d9e",
   "metadata": {},
   "outputs": [],
   "source": []
  },
  {
   "cell_type": "markdown",
   "id": "ea79d738",
   "metadata": {},
   "source": [
    "## Definir funciones usando libreria numpy"
   ]
  },
  {
   "cell_type": "code",
   "execution_count": 10,
   "id": "f378712a",
   "metadata": {},
   "outputs": [
    {
     "data": {
      "text/plain": [
       "0.5"
      ]
     },
     "execution_count": 10,
     "metadata": {},
     "output_type": "execute_result"
    }
   ],
   "source": [
    "import numpy as np\n",
    "\n",
    "def sigmoid_1(x):\n",
    "    return 1/(1+np.exp(-x))\n",
    "sigmoid_1(0)"
   ]
  },
  {
   "cell_type": "code",
   "execution_count": null,
   "id": "d270a15f",
   "metadata": {},
   "outputs": [],
   "source": []
  },
  {
   "cell_type": "markdown",
   "id": "db58b0fb",
   "metadata": {},
   "source": [
    "## TOPICS"
   ]
  },
  {
   "cell_type": "code",
   "execution_count": 11,
   "id": "33922a90",
   "metadata": {},
   "outputs": [
    {
     "name": "stdout",
     "output_type": "stream",
     "text": [
      "range(0, 7)\n"
     ]
    }
   ],
   "source": [
    "a = range (7)\n",
    "print (a)"
   ]
  },
  {
   "cell_type": "code",
   "execution_count": null,
   "id": "557d9eca",
   "metadata": {},
   "outputs": [],
   "source": []
  }
 ],
 "metadata": {
  "kernelspec": {
   "display_name": "Python 3 (ipykernel)",
   "language": "python",
   "name": "python3"
  },
  "language_info": {
   "codemirror_mode": {
    "name": "ipython",
    "version": 3
   },
   "file_extension": ".py",
   "mimetype": "text/x-python",
   "name": "python",
   "nbconvert_exporter": "python",
   "pygments_lexer": "ipython3",
   "version": "3.11.5"
  }
 },
 "nbformat": 4,
 "nbformat_minor": 5
}
