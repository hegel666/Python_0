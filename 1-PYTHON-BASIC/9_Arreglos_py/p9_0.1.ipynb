{
 "cells": [
  {
   "cell_type": "markdown",
   "id": "c2624dba",
   "metadata": {},
   "source": [
    "## ARRAY    (Arreglos)   -   Library : Numpy\n",
    "\n",
    "### Vectors and Matrix\n",
    "\n",
    "\n"
   ]
  },
  {
   "cell_type": "code",
   "execution_count": 17,
   "id": "32f2b4ff",
   "metadata": {},
   "outputs": [
    {
     "name": "stdout",
     "output_type": "stream",
     "text": [
      "[1, 2, 3, 4]\n"
     ]
    }
   ],
   "source": [
    "## Intro\n",
    "## Lista\n",
    "\n",
    "Lista1=[1,2,3,4]\n",
    "print(Lista1)"
   ]
  },
  {
   "cell_type": "markdown",
   "id": "6334cb61",
   "metadata": {},
   "source": [
    "### Vectors"
   ]
  },
  {
   "cell_type": "code",
   "execution_count": 2,
   "id": "8b217954",
   "metadata": {},
   "outputs": [
    {
     "name": "stdout",
     "output_type": "stream",
     "text": [
      "[2 3 5]\n"
     ]
    }
   ],
   "source": [
    "import numpy as np\n",
    "\n",
    "v1=np.array([2, 3, 5])\n",
    "print(v1)"
   ]
  },
  {
   "cell_type": "code",
   "execution_count": 18,
   "id": "6aa7a519",
   "metadata": {},
   "outputs": [
    {
     "name": "stdout",
     "output_type": "stream",
     "text": [
      "[2 5 3 4]\n"
     ]
    }
   ],
   "source": [
    "v1=np.array([2,5,3,4])\n",
    "print(v1)"
   ]
  },
  {
   "cell_type": "code",
   "execution_count": null,
   "id": "e5e25e22",
   "metadata": {},
   "outputs": [],
   "source": []
  },
  {
   "cell_type": "code",
   "execution_count": 3,
   "id": "96cd5f20",
   "metadata": {},
   "outputs": [
    {
     "name": "stdout",
     "output_type": "stream",
     "text": [
      "[-2  3  5  6]\n"
     ]
    }
   ],
   "source": [
    "v2=np.array([ -2, 3, 5, 6 ])\n",
    "print (v2)"
   ]
  },
  {
   "cell_type": "code",
   "execution_count": null,
   "id": "82413c52",
   "metadata": {},
   "outputs": [],
   "source": []
  },
  {
   "cell_type": "code",
   "execution_count": null,
   "id": "4e6e806e",
   "metadata": {},
   "outputs": [],
   "source": []
  },
  {
   "cell_type": "markdown",
   "id": "78922fc9",
   "metadata": {},
   "source": [
    "**OPERATIONS with Vectors**"
   ]
  },
  {
   "cell_type": "code",
   "execution_count": 12,
   "id": "f4b51721",
   "metadata": {},
   "outputs": [
    {
     "name": "stdout",
     "output_type": "stream",
     "text": [
      "Sum\n",
      "[3 2 9]\n"
     ]
    }
   ],
   "source": [
    "## Sean los vectores\n",
    "v1=np.array([1, 3, 5])\n",
    "v2=np.array([2, -1, 4])\n",
    "\n",
    "#Suma\n",
    "print(\"Sum\")\n",
    "print (v3 + v4)\n",
    "\n"
   ]
  },
  {
   "cell_type": "code",
   "execution_count": 14,
   "id": "b1cbfcb1",
   "metadata": {},
   "outputs": [
    {
     "name": "stdout",
     "output_type": "stream",
     "text": [
      "Multiplied for scalar 5 x V:\n",
      "[ 3  9 15]\n"
     ]
    }
   ],
   "source": [
    "## Sean los vectores\n",
    "v=np.array([1, 3, 5])\n",
    "\n",
    "# Multiplicacion por un escalar k=5\n",
    "print(\"Multiplied for scalar 5 x V:\")\n",
    "print(3*v1)"
   ]
  },
  {
   "cell_type": "code",
   "execution_count": null,
   "id": "149795b1",
   "metadata": {},
   "outputs": [],
   "source": []
  },
  {
   "cell_type": "code",
   "execution_count": null,
   "id": "4f7db83c",
   "metadata": {},
   "outputs": [],
   "source": []
  },
  {
   "cell_type": "code",
   "execution_count": null,
   "id": "b7b44839",
   "metadata": {},
   "outputs": [],
   "source": []
  },
  {
   "cell_type": "markdown",
   "id": "4f5bbc82",
   "metadata": {},
   "source": [
    "## Matrix in Python"
   ]
  },
  {
   "cell_type": "markdown",
   "id": "9f4ebb6f",
   "metadata": {},
   "source": [
    "\n"
   ]
  },
  {
   "cell_type": "markdown",
   "id": "c4807058",
   "metadata": {},
   "source": [
    "$$ M{m}x{n} $$"
   ]
  },
  {
   "cell_type": "code",
   "execution_count": null,
   "id": "14ef6647",
   "metadata": {},
   "outputs": [],
   "source": []
  },
  {
   "cell_type": "markdown",
   "id": "374cfe11",
   "metadata": {},
   "source": [
    "## Multiplicacion de Matrices : method 1\n",
    "Define matrix, whith List"
   ]
  },
  {
   "cell_type": "markdown",
   "id": "05337a8f",
   "metadata": {},
   "source": [
    "Matriz cuadrada A(nxn)"
   ]
  },
  {
   "cell_type": "code",
   "execution_count": 1,
   "id": "4b1ba6d4",
   "metadata": {},
   "outputs": [
    {
     "name": "stdout",
     "output_type": "stream",
     "text": [
      "[[36, 60, 41], [25, 55, 46], [54, 88, 61]]\n"
     ]
    }
   ],
   "source": [
    "m1=[[2,3,4],[3,4,2],[2,5,6]]\n",
    "\n",
    "m2=[[1,5,4],[2,6,7],[7,8,3]]\n",
    "\n",
    "m=[[0,0,0],[0,0,0],[0,0,0]]\n",
    "\n",
    "for x in range(0,3):\n",
    "    for y in range(0,3):\n",
    "        for z in range(0,3):\n",
    "            m[x][y]+=m1[x][z]*m2[z][y]\n",
    "print (m)"
   ]
  },
  {
   "cell_type": "code",
   "execution_count": null,
   "id": "11b892d2",
   "metadata": {},
   "outputs": [],
   "source": []
  },
  {
   "cell_type": "code",
   "execution_count": 2,
   "id": "f5053f1a",
   "metadata": {},
   "outputs": [
    {
     "name": "stdout",
     "output_type": "stream",
     "text": [
      "0\n",
      "1\n",
      "2\n",
      "3\n",
      "4\n"
     ]
    }
   ],
   "source": [
    "for i in range(5):\n",
    "    print(i)"
   ]
  },
  {
   "cell_type": "code",
   "execution_count": null,
   "id": "c5f6680d",
   "metadata": {},
   "outputs": [],
   "source": []
  },
  {
   "cell_type": "markdown",
   "id": "2a0aff9f",
   "metadata": {},
   "source": [
    "## Multiplicacion de Matrices : method 2\n",
    "Whith  Library numpy"
   ]
  },
  {
   "cell_type": "markdown",
   "id": "1119a6d9",
   "metadata": {},
   "source": [
    "## Se usara libreria numpy, para usar pi\n",
    "\n",
    "  Multiplicar 2 Matrices\n",
    " m1(3x3) y m2(3x3)"
   ]
  },
  {
   "cell_type": "code",
   "execution_count": null,
   "id": "abc903e8",
   "metadata": {},
   "outputs": [],
   "source": []
  },
  {
   "cell_type": "code",
   "execution_count": 4,
   "id": "f2d336af",
   "metadata": {},
   "outputs": [
    {
     "name": "stdout",
     "output_type": "stream",
     "text": [
      "[[36 60 41]\n",
      " [25 55 46]\n",
      " [54 88 61]]\n"
     ]
    }
   ],
   "source": [
    "import numpy as np\n",
    "\n",
    "m1=[[2,3,4],[3,4,2],[2,5,6]]\n",
    "\n",
    "m2=[[1,5,4],[2,6,7],[7,8,3]]\n",
    "\n",
    "m=np.dot(m1,m2)\n",
    "\n",
    "print(m)"
   ]
  },
  {
   "cell_type": "code",
   "execution_count": null,
   "id": "daec99ab",
   "metadata": {},
   "outputs": [],
   "source": []
  },
  {
   "cell_type": "code",
   "execution_count": 5,
   "id": "1f08bd8a",
   "metadata": {},
   "outputs": [
    {
     "data": {
      "text/plain": [
       "matrix([[ 6, -1],\n",
       "        [10,  5]])"
      ]
     },
     "execution_count": 5,
     "metadata": {},
     "output_type": "execute_result"
    }
   ],
   "source": [
    "A=[[1,-1],[3,1]]\n",
    "B=[[4,1],[-2,2]]\n",
    "\n",
    "A=np.matrix(A)\n",
    "B=np.matrix(B)\n",
    "\n",
    "A*B"
   ]
  },
  {
   "cell_type": "code",
   "execution_count": null,
   "id": "499dbc0b",
   "metadata": {},
   "outputs": [],
   "source": []
  },
  {
   "cell_type": "markdown",
   "id": "44a2d43b",
   "metadata": {},
   "source": [
    "Multiplicacion A(mxn)*B(nxp) = M(mxp)"
   ]
  },
  {
   "cell_type": "code",
   "execution_count": 6,
   "id": "6f103570",
   "metadata": {},
   "outputs": [
    {
     "name": "stdout",
     "output_type": "stream",
     "text": [
      "[[ 6]\n",
      " [12]\n",
      " [16]]\n"
     ]
    }
   ],
   "source": [
    "m1=[[1,2,3],[2,4,6],[4,7,5]]\n",
    "y=[[1],[1],[1]]\n",
    "\n",
    "n=np.dot(m1,y)\n",
    "print (n)\n"
   ]
  },
  {
   "cell_type": "code",
   "execution_count": null,
   "id": "5b7bf6e9",
   "metadata": {},
   "outputs": [],
   "source": []
  },
  {
   "cell_type": "code",
   "execution_count": null,
   "id": "a139706f",
   "metadata": {},
   "outputs": [],
   "source": []
  },
  {
   "cell_type": "code",
   "execution_count": 22,
   "id": "acab102f",
   "metadata": {},
   "outputs": [
    {
     "name": "stdout",
     "output_type": "stream",
     "text": [
      "[[ 1  2 -5]\n",
      " [ 2 -3  9]]\n"
     ]
    }
   ],
   "source": [
    "## Matriz M2x3     (2 filas 3 columnas)\n",
    "M1=np.array([[1, 2, -5],[2, -3, 9]])\n",
    "print(M1)"
   ]
  },
  {
   "cell_type": "code",
   "execution_count": 21,
   "id": "a8525b39",
   "metadata": {},
   "outputs": [
    {
     "name": "stdout",
     "output_type": "stream",
     "text": [
      "[[ 3  6 -5]\n",
      " [ 1 -3  5]\n",
      " [ 1  3 -2]]\n"
     ]
    }
   ],
   "source": [
    "# Matriz M3x3\n",
    "M2=np.array([[3, 6, -5],[1, -3, 5], [1, 3, -2 ]])\n",
    "print(M2)"
   ]
  },
  {
   "cell_type": "code",
   "execution_count": 23,
   "id": "eebe8700",
   "metadata": {},
   "outputs": [
    {
     "name": "stdout",
     "output_type": "stream",
     "text": [
      "[[1 3 5 7]]\n"
     ]
    }
   ],
   "source": [
    "# Matriz M1x4\n",
    "M3=np.array([[1,3,5,7]])\n",
    "print(M3)"
   ]
  },
  {
   "cell_type": "code",
   "execution_count": 25,
   "id": "0152bc77",
   "metadata": {},
   "outputs": [
    {
     "name": "stdout",
     "output_type": "stream",
     "text": [
      "[[ 1  2  3  4]\n",
      " [ 3 -2  6  3]\n",
      " [ 6  2  9  1]]\n"
     ]
    }
   ],
   "source": [
    "# Matriz M3x4\n",
    "M4=np.array([\n",
    "    [1,2,3,4],\n",
    "    [3,-2,6,3],\n",
    "    [6,2,9,1]\n",
    "])\n",
    "print(M4)"
   ]
  },
  {
   "cell_type": "code",
   "execution_count": 26,
   "id": "730b50fb",
   "metadata": {},
   "outputs": [
    {
     "name": "stdout",
     "output_type": "stream",
     "text": [
      "[[ 1  6  3]\n",
      " [ 3 -2  6]\n",
      " [ 5  0  1]]\n"
     ]
    }
   ],
   "source": [
    "M5=np.array([\n",
    "    [1,6,3],\n",
    "    [3,-2,6],\n",
    "    [5,0,1]\n",
    "])\n",
    "print(M5)"
   ]
  },
  {
   "cell_type": "code",
   "execution_count": 27,
   "id": "194d9cf5",
   "metadata": {},
   "outputs": [
    {
     "data": {
      "text/plain": [
       "(3, 4)"
      ]
     },
     "execution_count": 27,
     "metadata": {},
     "output_type": "execute_result"
    }
   ],
   "source": [
    "M4.shape"
   ]
  },
  {
   "cell_type": "code",
   "execution_count": 28,
   "id": "fba12eea",
   "metadata": {},
   "outputs": [
    {
     "data": {
      "text/plain": [
       "(3, 3)"
      ]
     },
     "execution_count": 28,
     "metadata": {},
     "output_type": "execute_result"
    }
   ],
   "source": [
    "M5.shape"
   ]
  },
  {
   "cell_type": "code",
   "execution_count": 29,
   "id": "4830f9bc",
   "metadata": {},
   "outputs": [
    {
     "data": {
      "text/plain": [
       "2"
      ]
     },
     "execution_count": 29,
     "metadata": {},
     "output_type": "execute_result"
    }
   ],
   "source": [
    "M4.ndim"
   ]
  },
  {
   "cell_type": "code",
   "execution_count": null,
   "id": "efbbc780",
   "metadata": {},
   "outputs": [],
   "source": []
  },
  {
   "cell_type": "code",
   "execution_count": 30,
   "id": "497029e8",
   "metadata": {},
   "outputs": [
    {
     "data": {
      "text/plain": [
       "array([[0., 0.],\n",
       "       [0., 0.],\n",
       "       [0., 0.]])"
      ]
     },
     "execution_count": 30,
     "metadata": {},
     "output_type": "execute_result"
    }
   ],
   "source": [
    "np.zeros((3,2))"
   ]
  },
  {
   "cell_type": "code",
   "execution_count": 31,
   "id": "33832552",
   "metadata": {},
   "outputs": [
    {
     "data": {
      "text/plain": [
       "array([[1., 1., 1.],\n",
       "       [1., 1., 1.],\n",
       "       [1., 1., 1.]])"
      ]
     },
     "execution_count": 31,
     "metadata": {},
     "output_type": "execute_result"
    }
   ],
   "source": [
    "np.ones((3,3))"
   ]
  },
  {
   "cell_type": "code",
   "execution_count": 32,
   "id": "18e5583b",
   "metadata": {},
   "outputs": [
    {
     "data": {
      "text/plain": [
       "array([[1., 1., 1., 1.]])"
      ]
     },
     "execution_count": 32,
     "metadata": {},
     "output_type": "execute_result"
    }
   ],
   "source": [
    "np.ones((1,4))"
   ]
  },
  {
   "cell_type": "code",
   "execution_count": null,
   "id": "6a297389",
   "metadata": {},
   "outputs": [],
   "source": []
  },
  {
   "cell_type": "code",
   "execution_count": null,
   "id": "f280bc5c",
   "metadata": {},
   "outputs": [],
   "source": []
  },
  {
   "cell_type": "markdown",
   "id": "696831f5",
   "metadata": {},
   "source": [
    "### TRANSPUESTA"
   ]
  },
  {
   "cell_type": "code",
   "execution_count": 38,
   "id": "6b708965",
   "metadata": {},
   "outputs": [
    {
     "name": "stdout",
     "output_type": "stream",
     "text": [
      "[[1 2 3]]\n",
      "Transpuesta\n"
     ]
    },
    {
     "data": {
      "text/plain": [
       "array([[1],\n",
       "       [2],\n",
       "       [3]])"
      ]
     },
     "execution_count": 38,
     "metadata": {},
     "output_type": "execute_result"
    }
   ],
   "source": [
    "# Transpuesta\n",
    "v=np.array([[1,2,3]])\n",
    "print(v)\n",
    "print(\"Transpuesta\")\n",
    "v.T"
   ]
  },
  {
   "cell_type": "code",
   "execution_count": 37,
   "id": "e37990e0",
   "metadata": {},
   "outputs": [
    {
     "name": "stdout",
     "output_type": "stream",
     "text": [
      "V1\n",
      " [[1 2 3]\n",
      " [1 0 5]] \n",
      "\n",
      "Transpuesta\n",
      "[[1 1]\n",
      " [2 0]\n",
      " [3 5]]\n"
     ]
    }
   ],
   "source": [
    "# Transpuesta\n",
    "v1=np.array([[1,2,3],[1,0,5]])\n",
    "print(\"V1\\n\",v1,\"\\n\")\n",
    "\n",
    "print(\"Transpuesta\")\n",
    "T1=v1.T\n",
    "print(T1)"
   ]
  },
  {
   "cell_type": "code",
   "execution_count": null,
   "id": "870aac73",
   "metadata": {},
   "outputs": [],
   "source": []
  },
  {
   "cell_type": "markdown",
   "id": "e5d97995",
   "metadata": {},
   "source": [
    "## Product of Matrix"
   ]
  },
  {
   "cell_type": "code",
   "execution_count": 45,
   "id": "e0fb734f",
   "metadata": {},
   "outputs": [
    {
     "name": "stdout",
     "output_type": "stream",
     "text": [
      "[[1 3]]\n",
      "\n",
      "\n",
      "[[1 3 6]\n",
      " [2 5 1]]\n",
      "\n",
      "\n",
      "The product of matrix is:\n",
      "[[ 7 18  9]]\n"
     ]
    }
   ],
   "source": [
    "# Matriz N1x2\n",
    "N=np.array([[1,3]])\n",
    "print(N)\n",
    "\n",
    "print(\"\\n\")\n",
    "\n",
    "# Matriz M2x3\n",
    "M=np.array([[1,3, 6],[2,5,1]])\n",
    "print(M)\n",
    "P=np.dot(N,M)\n",
    "\n",
    "print(\"\\n\")\n",
    "print(\"The product of matrix is:\")\n",
    "print(P)"
   ]
  },
  {
   "cell_type": "code",
   "execution_count": 48,
   "id": "1b43729e",
   "metadata": {},
   "outputs": [
    {
     "name": "stdout",
     "output_type": "stream",
     "text": [
      "v1= [[1 2 3 4 5]]\n",
      "\n",
      "\n",
      "v2=\n",
      " [[3]\n",
      " [0]\n",
      " [1]\n",
      " [4]\n",
      " [2]]\n",
      "\n",
      "\n",
      "The product of matrix is:\n",
      "\n",
      "\n",
      "P= [[32]]\n"
     ]
    }
   ],
   "source": [
    "# Matriz  V1(1x5)\n",
    "v1=np.array([[1,2,3,4,5]])\n",
    "print(\"v1=\",v1)\n",
    "\n",
    "print(\"\\n\")\n",
    "\n",
    "# Matriz  V2(5x1)\n",
    "v2=np.array([[3,0,1,4,2]]).T\n",
    "print(\"v2=\\n\", v2)\n",
    "\n",
    "print(\"\\n\")\n",
    "\n",
    "#Matriz  C(1x1)\n",
    "print(\"The product of matrix is:\")\n",
    "c=np.dot(v1,v2)\n",
    "\n",
    "print(\"\\n\")\n",
    "\n",
    "print(\"P=\",c)"
   ]
  },
  {
   "cell_type": "code",
   "execution_count": 49,
   "id": "1754ca90",
   "metadata": {},
   "outputs": [
    {
     "name": "stdout",
     "output_type": "stream",
     "text": [
      "[[1 2 3 4 5]]\n",
      "[[2]\n",
      " [3]\n",
      " [4]\n",
      " [5]\n",
      " [6]]\n",
      "The product of matrix is:\n",
      "[[70]]\n"
     ]
    }
   ],
   "source": [
    "v1_1=np.array([[1,2,3,4,5]])\n",
    "print(v1_1)\n",
    "v2_1=np.array([[2,3,4,5,6]]).T\n",
    "print(v2_1)\n",
    "\n",
    "print(\"The product of matrix is:\")\n",
    "c1=np.dot(v1_1,v2_1)\n",
    "\n",
    "print(c1)"
   ]
  },
  {
   "cell_type": "code",
   "execution_count": null,
   "id": "ee1d18e3",
   "metadata": {},
   "outputs": [],
   "source": []
  }
 ],
 "metadata": {
  "kernelspec": {
   "display_name": "Python 3 (ipykernel)",
   "language": "python",
   "name": "python3"
  },
  "language_info": {
   "codemirror_mode": {
    "name": "ipython",
    "version": 3
   },
   "file_extension": ".py",
   "mimetype": "text/x-python",
   "name": "python",
   "nbconvert_exporter": "python",
   "pygments_lexer": "ipython3",
   "version": "3.11.5"
  }
 },
 "nbformat": 4,
 "nbformat_minor": 5
}
