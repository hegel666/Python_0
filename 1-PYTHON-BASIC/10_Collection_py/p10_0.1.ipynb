{
 "cells": [
  {
   "cell_type": "markdown",
   "id": "04c1d734",
   "metadata": {},
   "source": [
    "# ESTRUCTURA DE DATOS :  COLECCIONES "
   ]
  },
  {
   "cell_type": "markdown",
   "id": "e4587359",
   "metadata": {},
   "source": [
    "## Lista"
   ]
  },
  {
   "cell_type": "markdown",
   "id": "f13422d9",
   "metadata": {},
   "source": [
    "Lista = [a,b,c]"
   ]
  },
  {
   "cell_type": "markdown",
   "id": "3c44e83c",
   "metadata": {},
   "source": [
    "Es un tipo de colección de datos, entre corchetes [  ], separados por comas. Los datos pueden ser diversos.\n",
    "\n"
   ]
  },
  {
   "cell_type": "markdown",
   "id": "28a61ec3",
   "metadata": {},
   "source": [
    "En otros lenguajes se le conoce como arreglo o vectores"
   ]
  },
  {
   "cell_type": "markdown",
   "id": "9fe528cc",
   "metadata": {},
   "source": [
    "En una lista puede haber valores repetidos"
   ]
  },
  {
   "cell_type": "code",
   "execution_count": 8,
   "id": "0394373b",
   "metadata": {},
   "outputs": [
    {
     "name": "stdout",
     "output_type": "stream",
     "text": [
      "[1, 2, 3]\n"
     ]
    }
   ],
   "source": [
    "# Lista = [a,b,c]\n",
    "\n",
    "Lista1 = [1,2,3]\n",
    "print(Lista1)"
   ]
  },
  {
   "cell_type": "markdown",
   "id": "9f25563f",
   "metadata": {},
   "source": [
    "#### Cantidad de elementos de una lista"
   ]
  },
  {
   "cell_type": "code",
   "execution_count": 9,
   "id": "8ca14527",
   "metadata": {},
   "outputs": [
    {
     "name": "stdout",
     "output_type": "stream",
     "text": [
      "3\n"
     ]
    }
   ],
   "source": [
    "#cuantos elementos tiene la lista\n",
    "\n",
    "print(len(Lista1))"
   ]
  },
  {
   "cell_type": "code",
   "execution_count": 1,
   "id": "914912d5",
   "metadata": {},
   "outputs": [
    {
     "name": "stdout",
     "output_type": "stream",
     "text": [
      "['lunes', 'martes', 'miercoles', 'jueves', 'viernes']\n"
     ]
    }
   ],
   "source": [
    "#mostrar los elementos de la Lista\n",
    "\n",
    "lista2=[\"lunes\",\"martes\",\"miercoles\",\"jueves\",\"viernes\"]\n",
    "print(lista2)"
   ]
  },
  {
   "cell_type": "code",
   "execution_count": 7,
   "id": "054c1175",
   "metadata": {},
   "outputs": [
    {
     "name": "stdout",
     "output_type": "stream",
     "text": [
      "lunes\n",
      "martes\n",
      "jueves\n"
     ]
    }
   ],
   "source": [
    "#mostrar elementos especificos de la Lista\n",
    "#De izquierda a derecha, inicia con indice 0, luego indice 1 … etc\n",
    "\n",
    "lista2=[\"lunes\",\"martes\",\"miercoles\",\"jueves\",\"viernes\"]\n",
    "\n",
    "print(lista2[0])\n",
    "print(lista2[1])\n",
    "print(lista2[3])\n"
   ]
  },
  {
   "cell_type": "code",
   "execution_count": 6,
   "id": "946756fa",
   "metadata": {},
   "outputs": [
    {
     "name": "stdout",
     "output_type": "stream",
     "text": [
      "viernes\n",
      "jueves\n",
      "martes\n"
     ]
    }
   ],
   "source": [
    "#mostrar elementos especificos de la Lista\n",
    "#De derecha a izquierda, inicia con indice -1, luego indice -2 … etc\n",
    "\n",
    "lista2=[\"lunes\",\"martes\",\"miercoles\",\"jueves\",\"viernes\"]\n",
    "print(lista2[-1])\n",
    "print(lista2[-2])\n",
    "print(lista2[-4])\n"
   ]
  },
  {
   "cell_type": "code",
   "execution_count": 8,
   "id": "88416fae",
   "metadata": {},
   "outputs": [
    {
     "name": "stdout",
     "output_type": "stream",
     "text": [
      "['lunes', 'martes', 'miercoles']\n"
     ]
    }
   ],
   "source": [
    "#mostrar rango de elementos de una lista\n",
    "lista2=[\"lunes\",\"martes\",\"miercoles\",\"jueves\",\"viernes\"]\n",
    "\n",
    "print(lista2[0:3]) # [m,n]desde m hasta n-1 \n"
   ]
  },
  {
   "cell_type": "code",
   "execution_count": 9,
   "id": "73c07427",
   "metadata": {},
   "outputs": [
    {
     "name": "stdout",
     "output_type": "stream",
     "text": [
      "['martes', 'miercoles']\n"
     ]
    }
   ],
   "source": [
    "#mostrar rango de elementos de una lista\n",
    "lista2=[\"lunes\",\"martes\",\"miercoles\",\"jueves\",\"viernes\"]\n",
    "\n",
    "print(lista2[1:3]) # [m,n]desde m hasta n-1 "
   ]
  },
  {
   "cell_type": "code",
   "execution_count": 10,
   "id": "b7e0dd49",
   "metadata": {},
   "outputs": [
    {
     "name": "stdout",
     "output_type": "stream",
     "text": [
      "['lunes', 'martes', 'miercoles']\n"
     ]
    }
   ],
   "source": [
    "#mostrar rango de elementos de una lista\n",
    "lista2=[\"lunes\",\"martes\",\"miercoles\",\"jueves\",\"viernes\"]\n",
    "\n",
    "print(lista2[:3]) # se sobreentiende que va desde el inicio "
   ]
  },
  {
   "cell_type": "code",
   "execution_count": 12,
   "id": "f335d9be",
   "metadata": {},
   "outputs": [
    {
     "name": "stdout",
     "output_type": "stream",
     "text": [
      "['miercoles', 'jueves', 'viernes']\n"
     ]
    }
   ],
   "source": [
    "#mostrar rango de elementos de una lista\n",
    "lista2=[\"lunes\",\"martes\",\"miercoles\",\"jueves\",\"viernes\"]\n",
    "\n",
    "print(lista2[2:]) #va desde indice 2, hasta el final"
   ]
  },
  {
   "cell_type": "code",
   "execution_count": 13,
   "id": "0e305771",
   "metadata": {},
   "outputs": [
    {
     "name": "stdout",
     "output_type": "stream",
     "text": [
      "['lunes', 'martes', 'miercoles', 'jueves', 'viernes', 40, 2.5, [1, 3, 5], True]\n"
     ]
    }
   ],
   "source": [
    "\n",
    "lista2=[\"lunes\",\"martes\",\"miercoles\",\"jueves\",\"viernes\",40, 2.5, [1,3,5], True]\n",
    "print(lista2)"
   ]
  },
  {
   "cell_type": "code",
   "execution_count": 14,
   "id": "799d4ae0",
   "metadata": {},
   "outputs": [
    {
     "name": "stdout",
     "output_type": "stream",
     "text": [
      "[1, 2, 3, 4, 5, 6]\n"
     ]
    }
   ],
   "source": [
    "#agregar elementos a una lista\n",
    "\n",
    "lista=[1,2,3,4,5]\n",
    "\n",
    "lista.append(6)\n",
    "\n",
    "print(lista)"
   ]
  },
  {
   "cell_type": "code",
   "execution_count": 27,
   "id": "bb884f51",
   "metadata": {},
   "outputs": [
    {
     "name": "stdout",
     "output_type": "stream",
     "text": [
      "[1, 2, 3, 4, 5, 6, 'Ana']\n"
     ]
    }
   ],
   "source": [
    "#agregar elementos a una lista\n",
    "\n",
    "lista=[1,2,3,4,5]\n",
    "\n",
    "lista.append(6)\n",
    "lista.append(\"Ana\")\n",
    "print(lista)\n"
   ]
  },
  {
   "cell_type": "code",
   "execution_count": 29,
   "id": "ca3e0895",
   "metadata": {},
   "outputs": [
    {
     "name": "stdout",
     "output_type": "stream",
     "text": [
      "[1, 2, 3, 4, 5]\n"
     ]
    }
   ],
   "source": [
    "#agregar elemento en un lugar determinado de una lista\n",
    "\n",
    "lista=[1,2,4,5]\n",
    "lista.insert(2,3) # (indice, valor)\n",
    "print(lista)"
   ]
  },
  {
   "cell_type": "code",
   "execution_count": 31,
   "id": "58935ae8",
   "metadata": {},
   "outputs": [
    {
     "name": "stdout",
     "output_type": "stream",
     "text": [
      "[1, 2, 4, 5, 6, 7, 8]\n"
     ]
    }
   ],
   "source": [
    "#agregar varios elementos al final de la lista\n",
    "\n",
    "lista=[1,2,4,5]\n",
    "lista.extend([6,7,8])\n",
    "print(lista)\n"
   ]
  },
  {
   "cell_type": "code",
   "execution_count": 32,
   "id": "07e19126",
   "metadata": {},
   "outputs": [
    {
     "name": "stdout",
     "output_type": "stream",
     "text": [
      "[1, 2, 4, 5, 6, 7, 8]\n"
     ]
    }
   ],
   "source": [
    "#sumar 2 listas o llamado tambien concatenar listas\n",
    "lista1=[1,2,4,5]\n",
    "lista2=[6,7,8]\n",
    "\n",
    "lista3=lista1+lista2\n",
    "print(lista3)"
   ]
  },
  {
   "cell_type": "code",
   "execution_count": 35,
   "id": "e700eb3a",
   "metadata": {},
   "outputs": [
    {
     "name": "stdout",
     "output_type": "stream",
     "text": [
      "True\n",
      "False\n"
     ]
    }
   ],
   "source": [
    "#buscar un elemento dentro de una lista\n",
    "\n",
    "lista=[1,2,3,4,5,\"Hegel\"]\n",
    "print(3 in lista) #permite preguntar si 3 esta en la lista\n",
    "print(10 in lista)"
   ]
  },
  {
   "cell_type": "code",
   "execution_count": 39,
   "id": "e61bda4c",
   "metadata": {},
   "outputs": [
    {
     "name": "stdout",
     "output_type": "stream",
     "text": [
      "2\n"
     ]
    }
   ],
   "source": [
    "#determinar el indice de un elemento de una lista\n",
    "lista=[3,2,7,5,1,\"Hegel\"]\n",
    "\n",
    "print(lista.index(7))# cual es el indice del elemento cuyo valor es 7\n"
   ]
  },
  {
   "cell_type": "code",
   "execution_count": 43,
   "id": "329613b0",
   "metadata": {},
   "outputs": [
    {
     "name": "stdout",
     "output_type": "stream",
     "text": [
      "3\n"
     ]
    }
   ],
   "source": [
    "#Si una lista tiene valores repetidos\n",
    "#Indicar cuantos valores repetidos de un elemento existen en la lista\n",
    "lista=[3,2,7,5,1,\"Hegel\",3,4,5,3,2,5]\n",
    "print(lista.count(5))"
   ]
  },
  {
   "cell_type": "code",
   "execution_count": 44,
   "id": "519c0e4e",
   "metadata": {},
   "outputs": [
    {
     "name": "stdout",
     "output_type": "stream",
     "text": [
      "[3, 2, 7, 5, 1]\n"
     ]
    }
   ],
   "source": [
    "#Eliminar elementos de una lista\n",
    "lista=[3,2,7,5,1,\"Hegel\"]\n",
    "lista.pop() #elimina el ultimo elemento de le lista\n",
    "\n",
    "print(lista)\n"
   ]
  },
  {
   "cell_type": "code",
   "execution_count": 45,
   "id": "33ab9156",
   "metadata": {},
   "outputs": [
    {
     "name": "stdout",
     "output_type": "stream",
     "text": [
      "[3, 2, 5, 1, 'Hegel']\n"
     ]
    }
   ],
   "source": [
    "#Eliminar elementos de una lista\n",
    "lista=[3,2,7,5,1,\"Hegel\"]\n",
    "lista.pop(2) #elimina el elemento de indice 2 de le lista, osea elimina al 7\n",
    "\n",
    "print(lista)\n"
   ]
  },
  {
   "cell_type": "code",
   "execution_count": 47,
   "id": "14dee869",
   "metadata": {},
   "outputs": [
    {
     "name": "stdout",
     "output_type": "stream",
     "text": [
      "[3, 2, 7, 5, 'Hegel']\n"
     ]
    }
   ],
   "source": [
    "#Para eliminar un elemento que no se conoce su ubicacion\n",
    "lista=[3,2,7,5,1,\"Hegel\"]\n",
    "\n",
    "lista.remove(1) #se elimina con remove indicando el valor del elemento\n",
    "\n",
    "print(lista)\n"
   ]
  },
  {
   "cell_type": "code",
   "execution_count": 48,
   "id": "0fe7b9bb",
   "metadata": {},
   "outputs": [
    {
     "name": "stdout",
     "output_type": "stream",
     "text": [
      "[]\n"
     ]
    }
   ],
   "source": [
    "#Eliminar todos los elementos de una lista\n",
    "lista=[3,2,7,5,1,\"Hegel\"]\n",
    "lista.clear() #limpia los elementos de la lista, quedando vacia\n",
    "\n",
    "print(lista)\n"
   ]
  },
  {
   "cell_type": "code",
   "execution_count": 49,
   "id": "554f9a45",
   "metadata": {},
   "outputs": [
    {
     "name": "stdout",
     "output_type": "stream",
     "text": [
      "['Hegel', 1, 5, 7, 2, 3]\n"
     ]
    }
   ],
   "source": [
    "#invertir los elementos de la lista\n",
    "lista=[3,2,7,5,1,\"Hegel\"]\n",
    "lista.reverse() #invierte los elementos de la lista, \n",
    "\n",
    "print(lista)\n",
    "\n"
   ]
  },
  {
   "cell_type": "code",
   "execution_count": 50,
   "id": "1c29d9eb",
   "metadata": {},
   "outputs": [
    {
     "name": "stdout",
     "output_type": "stream",
     "text": [
      "[3, 2, 7, 5, 1, 'Hegel', 3, 2, 7, 5, 1, 'Hegel']\n"
     ]
    }
   ],
   "source": [
    "#Multiplicar lista\n",
    "lista=[3,2,7,5,1,\"Hegel\"]*2     #duplica la lista\n",
    "\n",
    "print(lista)\n"
   ]
  },
  {
   "cell_type": "code",
   "execution_count": 52,
   "id": "649a88c5",
   "metadata": {},
   "outputs": [
    {
     "name": "stdout",
     "output_type": "stream",
     "text": [
      "[-7, 0, 1, 3, 4, 5]\n"
     ]
    }
   ],
   "source": [
    "#Ordenar los elementos de la lista\n",
    "\n",
    "lista=[5,4,-7,0,1,3]\n",
    "\n",
    "lista.sort() #ordena los valores de la lista de menor a mayor\n",
    "\n",
    "print(lista)"
   ]
  },
  {
   "cell_type": "code",
   "execution_count": 54,
   "id": "6e9d1d5a",
   "metadata": {},
   "outputs": [
    {
     "name": "stdout",
     "output_type": "stream",
     "text": [
      "[5, 4, 3, 1, 0, -7]\n"
     ]
    }
   ],
   "source": [
    "#Ordenar los elementos de la lista\n",
    "\n",
    "lista=[5,4,-7,0,1,3]\n",
    "\n",
    "lista.sort(reverse=True) #ordena los valores de la lista de mayor a menor\n",
    "\n",
    "print(lista)"
   ]
  },
  {
   "cell_type": "code",
   "execution_count": null,
   "id": "04b1a011",
   "metadata": {},
   "outputs": [],
   "source": []
  },
  {
   "cell_type": "code",
   "execution_count": null,
   "id": "3ccdb953",
   "metadata": {},
   "outputs": [],
   "source": []
  },
  {
   "cell_type": "markdown",
   "id": "c0b6304f",
   "metadata": {},
   "source": [
    "## Tuplas"
   ]
  },
  {
   "cell_type": "markdown",
   "id": "7f75cf70",
   "metadata": {},
   "source": [
    "Son un tipo de coleccion parecido a las listas"
   ]
  },
  {
   "cell_type": "markdown",
   "id": "a602cee4",
   "metadata": {},
   "source": [
    "Son  listas  inmutables, quiere decir que no se puede modificarlas. No se va poder agregar nuevos elementos"
   ]
  },
  {
   "cell_type": "markdown",
   "id": "25006621",
   "metadata": {},
   "source": [
    "Tupla = (a,b,c)"
   ]
  },
  {
   "cell_type": "code",
   "execution_count": 56,
   "id": "286069c7",
   "metadata": {},
   "outputs": [
    {
     "name": "stdout",
     "output_type": "stream",
     "text": [
      "(4, 5, 8)\n"
     ]
    }
   ],
   "source": [
    "# Tupla = (a,b,c)\n",
    "\n",
    "Tupla1 = (4,5,8)\n",
    "print(Tupla1)"
   ]
  },
  {
   "cell_type": "code",
   "execution_count": 57,
   "id": "e3355a77",
   "metadata": {},
   "outputs": [
    {
     "name": "stdout",
     "output_type": "stream",
     "text": [
      "(4, 'Hola', 5, 8.5, [1, 3], 3)\n"
     ]
    }
   ],
   "source": [
    "# Tupla = (a,b,c)\n",
    "\n",
    "Tupla1 = (4,\"Hola\",5,8.5, [1,3],3)\n",
    "print(Tupla1)"
   ]
  },
  {
   "cell_type": "code",
   "execution_count": 59,
   "id": "c9ebd048",
   "metadata": {},
   "outputs": [
    {
     "name": "stdout",
     "output_type": "stream",
     "text": [
      "5\n",
      "3\n"
     ]
    }
   ],
   "source": [
    "#Mostrar los elementos de la tupla\n",
    "tupla = (4,\"Hola\",5,8.5, [1,3],3)\n",
    "print(tupla[2]) # mostrar el elemento de indice 2\n",
    "print(tupla[-1])# muestra el ultimo elemento"
   ]
  },
  {
   "cell_type": "code",
   "execution_count": null,
   "id": "e7e4c1c2",
   "metadata": {},
   "outputs": [],
   "source": [
    "# Se puede mostrar un rango similar a las lista\n",
    "#se puede buscar un elemento \n",
    "#se puede indicar el indice a algun elemento\n",
    "#se puede hallar la cantidad de valores repetidos\n",
    "#se puede hallar la cantidad de elementos con: len"
   ]
  },
  {
   "cell_type": "code",
   "execution_count": 62,
   "id": "2099fd78",
   "metadata": {},
   "outputs": [
    {
     "name": "stdout",
     "output_type": "stream",
     "text": [
      "[4, 'Hola', 5, 8.5, [1, 3], 3]\n"
     ]
    }
   ],
   "source": [
    "#Se puede transformar Tuplas en Listas. se usa la funcion list\n",
    "tupla = (4,\"Hola\",5,8.5, [1,3],3)\n",
    "lista = list(tupla) #se genera una lista, pero sigue existiendo la tupla\n",
    "print(lista)\n"
   ]
  },
  {
   "cell_type": "code",
   "execution_count": 64,
   "id": "b5c37974",
   "metadata": {},
   "outputs": [
    {
     "name": "stdout",
     "output_type": "stream",
     "text": [
      "(4, 'Hola', 5, 8.5, [1, 3], 3)\n"
     ]
    }
   ],
   "source": [
    "#Se puede transformar Lista en Tuplas. se usa la funcion tuple\n",
    "lista = [4,\"Hola\",5,8.5, [1,3],3]\n",
    "tupla = tuple(lista) #se genera una tupla, pero sigue existiendo la lista\n",
    "print(tupla)"
   ]
  },
  {
   "cell_type": "code",
   "execution_count": null,
   "id": "a32f617a",
   "metadata": {},
   "outputs": [],
   "source": []
  },
  {
   "cell_type": "code",
   "execution_count": null,
   "id": "aa2bd12d",
   "metadata": {},
   "outputs": [],
   "source": []
  },
  {
   "cell_type": "markdown",
   "id": "7be08973",
   "metadata": {},
   "source": [
    "## Conjuntos"
   ]
  },
  {
   "cell_type": "markdown",
   "id": "88ad76d1",
   "metadata": {},
   "source": [
    "Es un grupo de datos desordenados (no hay duplicados). Sus elementos pueden se de diferentes tipos de datos, pero no colecciones."
   ]
  },
  {
   "cell_type": "markdown",
   "id": "7f62ce8e",
   "metadata": {},
   "source": [
    "conjunto = set()\n"
   ]
  },
  {
   "cell_type": "markdown",
   "id": "995bec0b",
   "metadata": {},
   "source": [
    "conjunto = {e1,e2,e3}  . Su sintaxis es similar a diccionario."
   ]
  },
  {
   "cell_type": "code",
   "execution_count": 11,
   "id": "1775f71e",
   "metadata": {},
   "outputs": [
    {
     "name": "stdout",
     "output_type": "stream",
     "text": [
      "{0.5, 1, 2, 'hola', 3}\n"
     ]
    }
   ],
   "source": [
    "#conjunto\n",
    "\n",
    "conjunto1 = set() #se define conjunto\n",
    "conjunto1 = {1,2,3,\"hola\",0.5} #elementos entre { }\n",
    "\n",
    "print(conjunto1)"
   ]
  },
  {
   "cell_type": "code",
   "execution_count": 12,
   "id": "88fb5697",
   "metadata": {},
   "outputs": [
    {
     "data": {
      "text/plain": [
       "set"
      ]
     },
     "execution_count": 12,
     "metadata": {},
     "output_type": "execute_result"
    }
   ],
   "source": [
    "type(conjunto1)"
   ]
  },
  {
   "cell_type": "code",
   "execution_count": 75,
   "id": "5af9f720",
   "metadata": {},
   "outputs": [
    {
     "name": "stdout",
     "output_type": "stream",
     "text": [
      "{1, 2, 6}\n"
     ]
    }
   ],
   "source": [
    "#Si se parte con un conjunto no vacio con elementos ya no es necesario colocar set()\n",
    "\n",
    "conjunto = {1,2,6}\n",
    "\n",
    "print(conjunto)"
   ]
  },
  {
   "cell_type": "code",
   "execution_count": 68,
   "id": "58ea3e3b",
   "metadata": {},
   "outputs": [
    {
     "name": "stdout",
     "output_type": "stream",
     "text": [
      "{}\n"
     ]
    }
   ],
   "source": [
    "#conjunto vacio\n",
    "\n",
    "conjunto = set()\n",
    "conjunto = {}\n",
    "\n",
    "print(conjunto)"
   ]
  },
  {
   "cell_type": "code",
   "execution_count": 69,
   "id": "f0d973f3",
   "metadata": {},
   "outputs": [
    {
     "name": "stdout",
     "output_type": "stream",
     "text": [
      "{3}\n"
     ]
    }
   ],
   "source": [
    "#conjunto unitario\n",
    "\n",
    "conjunto = set()\n",
    "conjunto = {3,3,3}\n",
    "\n",
    "print(conjunto)"
   ]
  },
  {
   "cell_type": "code",
   "execution_count": 66,
   "id": "5b4e9b4b",
   "metadata": {},
   "outputs": [
    {
     "name": "stdout",
     "output_type": "stream",
     "text": [
      "{1, 2, 5, 6}\n"
     ]
    }
   ],
   "source": [
    "#Agregar elementos a un conjunto\n",
    "\n",
    "conjunto2 = set()\n",
    "conjunto2 = {1,2,6}\n",
    "conjunto2.add(5)\n",
    "\n",
    "print(conjunto2)"
   ]
  },
  {
   "cell_type": "code",
   "execution_count": 76,
   "id": "fe87d432",
   "metadata": {},
   "outputs": [
    {
     "name": "stdout",
     "output_type": "stream",
     "text": [
      "{1, 2, 5, 6}\n"
     ]
    }
   ],
   "source": [
    "#Agregar elementos a un conjunto, como veran no es necesario colocar set()\n",
    "\n",
    "conjunto2 = {1,2,6}\n",
    "conjunto2.add(5)\n",
    "\n",
    "print(conjunto2)"
   ]
  },
  {
   "cell_type": "code",
   "execution_count": 67,
   "id": "e9f3ccd9",
   "metadata": {},
   "outputs": [
    {
     "name": "stdout",
     "output_type": "stream",
     "text": [
      "{1, 2, 3, 7}\n"
     ]
    }
   ],
   "source": [
    "#Eliminar elementos a un conjunto\n",
    "\n",
    "conjunto2 = set()\n",
    "conjunto2 = {1,2,6,7,3}\n",
    "conjunto2.discard(6)\n",
    "\n",
    "print(conjunto2)"
   ]
  },
  {
   "cell_type": "code",
   "execution_count": 70,
   "id": "a607b946",
   "metadata": {},
   "outputs": [
    {
     "name": "stdout",
     "output_type": "stream",
     "text": [
      "set()\n"
     ]
    }
   ],
   "source": [
    "#Se puede borrar los elementos del conjunto con clear\n",
    "conjunto2 = set()\n",
    "conjunto2 = {1,2,6,7,3}\n",
    "conjunto2.clear()\n",
    "\n",
    "print(conjunto2)"
   ]
  },
  {
   "cell_type": "code",
   "execution_count": 71,
   "id": "348797b1",
   "metadata": {},
   "outputs": [
    {
     "name": "stdout",
     "output_type": "stream",
     "text": [
      "True\n"
     ]
    }
   ],
   "source": [
    "#Se puede buscar un elemento dentro de un conjunto\n",
    "conjunto2 = set()\n",
    "conjunto2 = {1,2,6,7,3}\n",
    "\n",
    "print(7 in conjunto2)"
   ]
  },
  {
   "cell_type": "code",
   "execution_count": 74,
   "id": "8fca52cf",
   "metadata": {},
   "outputs": [
    {
     "name": "stdout",
     "output_type": "stream",
     "text": [
      "False\n"
     ]
    }
   ],
   "source": [
    "#Se puede buscar un elemento dentro de un conjunto\n",
    "conjunto2 = set()\n",
    "conjunto2 = {1,2,6,7,3}\n",
    "\n",
    "print(3 not in conjunto2)"
   ]
  },
  {
   "cell_type": "markdown",
   "id": "1ec8edf4",
   "metadata": {},
   "source": [
    "#### OPERACIONES ENTRE CONJUNTOS"
   ]
  },
  {
   "cell_type": "code",
   "execution_count": 77,
   "id": "ae5c4f79",
   "metadata": {},
   "outputs": [
    {
     "name": "stdout",
     "output_type": "stream",
     "text": [
      "True\n"
     ]
    }
   ],
   "source": [
    "#Igualdad de Conjuntos\n",
    "# Ver si los siguientes conjuntos son iguales\n",
    "a={1,2,3}\n",
    "b={3,1,2}\n",
    "\n",
    "print(a == b)\n"
   ]
  },
  {
   "cell_type": "code",
   "execution_count": 80,
   "id": "203630f6",
   "metadata": {},
   "outputs": [
    {
     "name": "stdout",
     "output_type": "stream",
     "text": [
      "{1, 2, 3, 4, 5, 6}\n"
     ]
    }
   ],
   "source": [
    "#Union entre conjuntos\n",
    "a={1,2,3}\n",
    "b={3,4,5,6}\n",
    "c= a | b\n",
    "#print(a + b)       no se usa +\n",
    "print(c)"
   ]
  },
  {
   "cell_type": "code",
   "execution_count": 81,
   "id": "85d56970",
   "metadata": {},
   "outputs": [
    {
     "name": "stdout",
     "output_type": "stream",
     "text": [
      "{3}\n"
     ]
    }
   ],
   "source": [
    "#Interseccion entre conjuntos\n",
    "a={1,2,3}\n",
    "b={3,4,5,6}\n",
    "c= a & b\n",
    "    \n",
    "print(c)"
   ]
  },
  {
   "cell_type": "code",
   "execution_count": 82,
   "id": "34bc5839",
   "metadata": {},
   "outputs": [
    {
     "name": "stdout",
     "output_type": "stream",
     "text": [
      "{1, 2}\n"
     ]
    }
   ],
   "source": [
    "#Diferencia entre conjuntos\n",
    "a={1,2,3}\n",
    "b={3,4,5,6}\n",
    "c= a - b\n",
    "    \n",
    "print(c)"
   ]
  },
  {
   "cell_type": "code",
   "execution_count": 83,
   "id": "ceb474b3",
   "metadata": {},
   "outputs": [
    {
     "name": "stdout",
     "output_type": "stream",
     "text": [
      "{4, 5, 6}\n"
     ]
    }
   ],
   "source": [
    "#Diferencia entre conjuntos\n",
    "a={1,2,3}\n",
    "b={3,4,5,6}\n",
    "c= b - a\n",
    "    \n",
    "print(c)"
   ]
  },
  {
   "cell_type": "code",
   "execution_count": 84,
   "id": "9bdea57e",
   "metadata": {},
   "outputs": [
    {
     "name": "stdout",
     "output_type": "stream",
     "text": [
      "{1, 2, 4, 5, 6}\n"
     ]
    }
   ],
   "source": [
    "#Diferencia simetrica entre conjuntos\n",
    "a={1,2,3}\n",
    "b={3,4,5,6}\n",
    "c= a ^ b\n",
    "    \n",
    "print(c)"
   ]
  },
  {
   "cell_type": "code",
   "execution_count": 86,
   "id": "d6a3a5c5",
   "metadata": {},
   "outputs": [
    {
     "name": "stdout",
     "output_type": "stream",
     "text": [
      "True\n"
     ]
    }
   ],
   "source": [
    "#Subconjuntos\n",
    "#Preguntar si un conjunto es subconjunto de otro\n",
    "a={1,2,3}\n",
    "b={3,4,5,6}\n",
    "c={1,2,3,4,5,6,7}\n",
    "\n",
    "print(a.issubset(c))"
   ]
  },
  {
   "cell_type": "code",
   "execution_count": 88,
   "id": "2af918f1",
   "metadata": {},
   "outputs": [
    {
     "name": "stdout",
     "output_type": "stream",
     "text": [
      "False\n"
     ]
    }
   ],
   "source": [
    "#Subconjuntos\n",
    "#Preguntar si un conjunto es subconjunto de otro\n",
    "a={1,2,3}\n",
    "b={3,4,5,6,9}\n",
    "c={1,2,3,4,5,6,7}\n",
    "\n",
    "print(b.issubset(c))"
   ]
  },
  {
   "cell_type": "code",
   "execution_count": 90,
   "id": "fec37dcc",
   "metadata": {},
   "outputs": [
    {
     "name": "stdout",
     "output_type": "stream",
     "text": [
      "True\n"
     ]
    }
   ],
   "source": [
    "#Superconjuntos\n",
    "#Preguntar si conjunto c es superconjunto de  a\n",
    "a={1,2,3}\n",
    "b={3,4,5,6,9}\n",
    "c={1,2,3,4,5,6,7}\n",
    "\n",
    "print(c.issuperset(a))"
   ]
  },
  {
   "cell_type": "code",
   "execution_count": 91,
   "id": "078a3a52",
   "metadata": {},
   "outputs": [
    {
     "name": "stdout",
     "output_type": "stream",
     "text": [
      "False\n"
     ]
    }
   ],
   "source": [
    "#Conjuntos disconjuntos o disconexos\n",
    "a={1,2,3}\n",
    "b={3,4,5,6,9}\n",
    "\n",
    "print(a.isdisjoint(b))\n"
   ]
  },
  {
   "cell_type": "code",
   "execution_count": 92,
   "id": "5f19ea1c",
   "metadata": {},
   "outputs": [
    {
     "name": "stdout",
     "output_type": "stream",
     "text": [
      "True\n"
     ]
    }
   ],
   "source": [
    "#Conjuntos disconjuntos o disconexos\n",
    "a={1,2,7}\n",
    "b={3,4,5,6,9}\n",
    "\n",
    "print(a.isdisjoint(b))"
   ]
  },
  {
   "cell_type": "code",
   "execution_count": 93,
   "id": "22e7acf0",
   "metadata": {},
   "outputs": [
    {
     "name": "stdout",
     "output_type": "stream",
     "text": [
      "frozenset({1, 2, 7})\n"
     ]
    }
   ],
   "source": [
    "#Conjuntos inmutables, serian como tuplas\n",
    "#Sobre estos conjuntos no se puede alterar al conjunto, por ejemplo no se puede añadir o eliminar elementos\n",
    "a= frozenset({1,2,7})  #conjunto inmutable\n",
    "b={3,4,5,6,9} # conjunto tipico osea no inmutable \n",
    "\n",
    "print(a)"
   ]
  },
  {
   "cell_type": "code",
   "execution_count": null,
   "id": "374fd0b0",
   "metadata": {},
   "outputs": [],
   "source": []
  },
  {
   "cell_type": "code",
   "execution_count": null,
   "id": "bd8f76a1",
   "metadata": {},
   "outputs": [],
   "source": []
  },
  {
   "cell_type": "markdown",
   "id": "faa85278",
   "metadata": {},
   "source": [
    "## Diccionarios"
   ]
  },
  {
   "cell_type": "markdown",
   "id": "8c3ab873",
   "metadata": {},
   "source": [
    "Colección  de datos de la forma   **“clave” : “valor”** separados por comas  todo entre  llaves { }. Tambien son desordenados."
   ]
  },
  {
   "cell_type": "markdown",
   "id": "eeabdb37",
   "metadata": {},
   "source": [
    "Diccionario = {\"clave1\" **:** \"valor1\" , \"clave2\" **:** \"valor2\", etc}"
   ]
  },
  {
   "cell_type": "markdown",
   "id": "41334f07",
   "metadata": {},
   "source": [
    "Los elementos de un diccionario pueden contener tambien colecciones"
   ]
  },
  {
   "cell_type": "code",
   "execution_count": 94,
   "id": "d6a8f0e7",
   "metadata": {},
   "outputs": [
    {
     "name": "stdout",
     "output_type": "stream",
     "text": [
      "{}\n"
     ]
    }
   ],
   "source": [
    "#diccionario vacio\n",
    "diccionario = { }\n",
    "\n",
    "print(diccionario)"
   ]
  },
  {
   "cell_type": "code",
   "execution_count": 95,
   "id": "c97277bd",
   "metadata": {},
   "outputs": [
    {
     "name": "stdout",
     "output_type": "stream",
     "text": [
      "{'nombre': 'Hegel', 'apellidos': 'Ocrospoma Noel', 'dni': '09520497'}\n"
     ]
    }
   ],
   "source": [
    "#Diccionario que define los datos de una persona\n",
    "\n",
    "diccionario = {\"nombre\":\"Hegel\", \"apellidos\":\"Ocrospoma Noel\", \"dni\":\"09520497\"}\n",
    "\n",
    "print(diccionario)"
   ]
  },
  {
   "cell_type": "code",
   "execution_count": 100,
   "id": "17141960",
   "metadata": {},
   "outputs": [
    {
     "name": "stdout",
     "output_type": "stream",
     "text": [
      "09520497\n"
     ]
    }
   ],
   "source": [
    "#Diccionario que define los datos de una persona\n",
    "\n",
    "diccionario = {\"nombre\":\"Hegel\", \"apellidos\":\"Ocrospoma Noel\", \"dni\":\"09520497\"}\n",
    "\n",
    "print(diccionario[\"dni\"])"
   ]
  },
  {
   "cell_type": "code",
   "execution_count": 104,
   "id": "5f02bdd1",
   "metadata": {},
   "outputs": [],
   "source": [
    "\n",
    "#diccionario = {\"nombre\":\"Hegel\", \"apellidos\":\"Ocrospoma Noel\", \"dni\":\"09520497\"}\n",
    "\n",
    "#print(f\"El ciudadano {diccionario[\"nombre\"]} tienen DNI {diccionario[\"dni\"]}\")\n",
    "      "
   ]
  },
  {
   "cell_type": "code",
   "execution_count": 96,
   "id": "d537f34b",
   "metadata": {},
   "outputs": [
    {
     "name": "stdout",
     "output_type": "stream",
     "text": [
      "{'verde': 'green', 'azul': 'blue', 'rojo': 'red', 'amarillo': 'yellow'}\n"
     ]
    }
   ],
   "source": [
    "#Diccionario que define colores y su traduccion en Ingles\n",
    "\n",
    "diccionario = {\"verde\":\"green\",\"azul\":\"blue\", \"rojo\":\"red\", \"amarillo\":\"yellow\"}\n",
    "\n",
    "print(diccionario)"
   ]
  },
  {
   "cell_type": "code",
   "execution_count": 99,
   "id": "041bb5ff",
   "metadata": {},
   "outputs": [
    {
     "name": "stdout",
     "output_type": "stream",
     "text": [
      "green\n",
      "yellow\n"
     ]
    }
   ],
   "source": [
    "#Diccionario con datos que sirven para mostrar la traduccion en Ingles de cada color\n",
    "\n",
    "diccionario = {\"verde\":\"green\",\"azul\":\"blue\", \"rojo\":\"red\", \"amarillo\":\"yellow\"}\n",
    "\n",
    "print(diccionario[\"verde\"])\n",
    "print(diccionario[\"amarillo\"])"
   ]
  },
  {
   "cell_type": "code",
   "execution_count": 105,
   "id": "13d6a96c",
   "metadata": {},
   "outputs": [
    {
     "name": "stdout",
     "output_type": "stream",
     "text": [
      "{'verde': 'green', 'azul': 'blue', 'rojo': 'red', 'amarillo': 'yellow', 'naranja': 'orange'}\n"
     ]
    }
   ],
   "source": [
    "#Agregar elementos al diccionario\n",
    "diccionario = {\"verde\":\"green\",\"azul\":\"blue\", \"rojo\":\"red\", \"amarillo\":\"yellow\"}\n",
    "diccionario[\"naranja\"]=\"orange\"\n",
    "\n",
    "print(diccionario)\n"
   ]
  },
  {
   "cell_type": "code",
   "execution_count": 106,
   "id": "976bff4d",
   "metadata": {},
   "outputs": [
    {
     "name": "stdout",
     "output_type": "stream",
     "text": [
      "{'verde': 'green', 'azul': 'blue', 'amarillo': 'yellow'}\n"
     ]
    }
   ],
   "source": [
    "#Eliminar  elementos de un diccionario\n",
    "diccionario = {\"verde\":\"green\",\"azul\":\"blue\", \"rojo\":\"red\", \"amarillo\":\"yellow\"}\n",
    "del(diccionario[\"rojo\"])\n",
    "\n",
    "print(diccionario)"
   ]
  },
  {
   "cell_type": "code",
   "execution_count": 108,
   "id": "7fbe91e4",
   "metadata": {},
   "outputs": [
    {
     "name": "stdout",
     "output_type": "stream",
     "text": [
      "{'edad': 45, 'peso': 65, 'tamaño': 1.67}\n"
     ]
    }
   ],
   "source": [
    "#\n",
    "diccionario={\"edad\":45, \"peso\":65 , \"tamaño\":1.67}\n",
    "\n",
    "print(diccionario)"
   ]
  },
  {
   "cell_type": "code",
   "execution_count": 110,
   "id": "2b4e8ca6",
   "metadata": {},
   "outputs": [
    {
     "name": "stdout",
     "output_type": "stream",
     "text": [
      "{'Maria': [22, 1.6], 'Carlos': [21, 1.7], 'Luis': [45, 1.68]}\n"
     ]
    }
   ],
   "source": [
    "#Diccionario con elementos cuyos valores son colecciones: listas de datos edad y peso\n",
    "#\n",
    "diccionario={\"Maria\":[22,1.60] ,\"Carlos\":[21,1.70] , \"Luis\":[45,1.68]}\n",
    "\n",
    "print(diccionario)"
   ]
  },
  {
   "cell_type": "code",
   "execution_count": 112,
   "id": "e18e4ced",
   "metadata": {},
   "outputs": [
    {
     "name": "stdout",
     "output_type": "stream",
     "text": [
      "{'Maria': {'edad': 22, 'estatura': 1.6}, 'Carlos': {'edad': 21, 'estatura': 1.7}, 'Luis': {'edad': 45, 'estatura': 1.68}}\n"
     ]
    }
   ],
   "source": [
    "#Diccionario con elementos cuyos valores son colecciones: diccionarios de datos edad y peso\n",
    "#\n",
    "diccionario={\"Maria\":{\"edad\":22,\"estatura\":1.60} ,\"Carlos\":{\"edad\":21,\"estatura\":1.70}  , \"Luis\":{\"edad\":45,\"estatura\":1.68} }\n",
    "\n",
    "print(diccionario)"
   ]
  },
  {
   "cell_type": "code",
   "execution_count": 115,
   "id": "17726d3b",
   "metadata": {},
   "outputs": [
    {
     "name": "stdout",
     "output_type": "stream",
     "text": [
      "{'edad': 22, 'estatura': 1.6}\n"
     ]
    }
   ],
   "source": [
    "#Diccionario con elementos cuyos valores son colecciones: diccionarios de datos edad y peso\n",
    "#mostrar datos de Maria\n",
    "diccionario={\"Maria\":{\"edad\":22,\"estatura\":1.60} ,\"Carlos\":{\"edad\":21,\"estatura\":1.70}  , \"Luis\":{\"edad\":45,\"estatura\":1.68} }\n",
    "\n",
    "print(diccionario[\"Maria\"])"
   ]
  },
  {
   "cell_type": "code",
   "execution_count": 117,
   "id": "b7713fcb",
   "metadata": {},
   "outputs": [
    {
     "name": "stdout",
     "output_type": "stream",
     "text": [
      "Pedro\n"
     ]
    }
   ],
   "source": [
    "#\n",
    "diccionario={10:\"Luis\", 5:\"Pedro\" , 7:\"Norma\"}\n",
    "\n",
    "print(diccionario.get(5))"
   ]
  },
  {
   "cell_type": "code",
   "execution_count": 118,
   "id": "71b55ead",
   "metadata": {},
   "outputs": [
    {
     "name": "stdout",
     "output_type": "stream",
     "text": [
      "No hay ese nombre\n"
     ]
    }
   ],
   "source": [
    "#\n",
    "diccionario={10:\"Luis\", 5:\"Pedro\" , 7:\"Norma\"}\n",
    "\n",
    "print(diccionario.get(9,\"No hay ese nombre\"))"
   ]
  },
  {
   "cell_type": "code",
   "execution_count": 119,
   "id": "e1be0225",
   "metadata": {},
   "outputs": [
    {
     "name": "stdout",
     "output_type": "stream",
     "text": [
      "True\n"
     ]
    }
   ],
   "source": [
    "#Busqueda si encuentra el valor para una determinada clave, resultado True o False \n",
    "equipo={10:\"Luis\", 5:\"Pedro\" , 7:\"Norma\"}\n",
    "print(10 in equipo)\n"
   ]
  },
  {
   "cell_type": "code",
   "execution_count": 120,
   "id": "a98b9e4b",
   "metadata": {},
   "outputs": [
    {
     "name": "stdout",
     "output_type": "stream",
     "text": [
      "dict_keys([10, 5, 7])\n"
     ]
    }
   ],
   "source": [
    "#Mostrar solo las claves de un diccionario\n",
    "equipo={10:\"Luis\", 5:\"Pedro\" , 7:\"Norma\"}\n",
    "print(equipo.keys())"
   ]
  },
  {
   "cell_type": "code",
   "execution_count": 121,
   "id": "352adc9d",
   "metadata": {},
   "outputs": [
    {
     "name": "stdout",
     "output_type": "stream",
     "text": [
      "dict_values(['Luis', 'Pedro', 'Norma'])\n"
     ]
    }
   ],
   "source": [
    "#Mostrar solo los valores de un diccionario\n",
    "equipo={10:\"Luis\", 5:\"Pedro\" , 7:\"Norma\"}\n",
    "print(equipo.values())"
   ]
  },
  {
   "cell_type": "code",
   "execution_count": 124,
   "id": "a1edd043",
   "metadata": {},
   "outputs": [
    {
     "name": "stdout",
     "output_type": "stream",
     "text": [
      "dict_items([(10, 'Luis'), (5, 'Pedro'), (7, 'Norma')])\n"
     ]
    }
   ],
   "source": [
    "#Otra forma de Mostrar clave y valor de diccionario\n",
    "equipo={10:\"Luis\", 5:\"Pedro\" , 7:\"Norma\"}\n",
    "print(equipo.items())"
   ]
  },
  {
   "cell_type": "code",
   "execution_count": 125,
   "id": "7a41cffe",
   "metadata": {},
   "outputs": [
    {
     "name": "stdout",
     "output_type": "stream",
     "text": [
      "3\n"
     ]
    }
   ],
   "source": [
    "#Mostrar cantidad de elementos del diccionario\n",
    "equipo={10:\"Luis\", 5:\"Pedro\" , 7:\"Norma\"}\n",
    "print(len(equipo))"
   ]
  },
  {
   "cell_type": "code",
   "execution_count": 127,
   "id": "ec9d5f5f",
   "metadata": {},
   "outputs": [
    {
     "name": "stdout",
     "output_type": "stream",
     "text": [
      "{}\n"
     ]
    }
   ],
   "source": [
    "#Limpiar elementos del diccionario\n",
    "equipo={10:\"Luis\", 5:\"Pedro\" , 7:\"Norma\"}\n",
    "equipo.clear()\n",
    "print(equipo)"
   ]
  },
  {
   "cell_type": "code",
   "execution_count": null,
   "id": "492a7d83",
   "metadata": {},
   "outputs": [],
   "source": []
  },
  {
   "cell_type": "markdown",
   "id": "8db9f864",
   "metadata": {},
   "source": [
    "## Pilas con Listas"
   ]
  },
  {
   "cell_type": "code",
   "execution_count": null,
   "id": "0d50e350",
   "metadata": {},
   "outputs": [],
   "source": []
  },
  {
   "cell_type": "code",
   "execution_count": null,
   "id": "ae106cda",
   "metadata": {},
   "outputs": [],
   "source": []
  },
  {
   "cell_type": "code",
   "execution_count": null,
   "id": "02681d25",
   "metadata": {},
   "outputs": [],
   "source": []
  },
  {
   "cell_type": "code",
   "execution_count": null,
   "id": "9e4fcedb",
   "metadata": {},
   "outputs": [],
   "source": []
  },
  {
   "cell_type": "markdown",
   "id": "34d88d92",
   "metadata": {},
   "source": [
    "## Colas con listas"
   ]
  },
  {
   "cell_type": "code",
   "execution_count": null,
   "id": "2f948cfc",
   "metadata": {},
   "outputs": [],
   "source": []
  },
  {
   "cell_type": "code",
   "execution_count": null,
   "id": "28c3fd17",
   "metadata": {},
   "outputs": [],
   "source": []
  },
  {
   "cell_type": "code",
   "execution_count": null,
   "id": "141abe9e",
   "metadata": {},
   "outputs": [],
   "source": []
  },
  {
   "cell_type": "code",
   "execution_count": null,
   "id": "41a10880",
   "metadata": {},
   "outputs": [],
   "source": []
  },
  {
   "cell_type": "code",
   "execution_count": null,
   "id": "f8189323",
   "metadata": {},
   "outputs": [],
   "source": []
  }
 ],
 "metadata": {
  "kernelspec": {
   "display_name": "Python 3 (ipykernel)",
   "language": "python",
   "name": "python3"
  },
  "language_info": {
   "codemirror_mode": {
    "name": "ipython",
    "version": 3
   },
   "file_extension": ".py",
   "mimetype": "text/x-python",
   "name": "python",
   "nbconvert_exporter": "python",
   "pygments_lexer": "ipython3",
   "version": "3.11.5"
  }
 },
 "nbformat": 4,
 "nbformat_minor": 5
}
