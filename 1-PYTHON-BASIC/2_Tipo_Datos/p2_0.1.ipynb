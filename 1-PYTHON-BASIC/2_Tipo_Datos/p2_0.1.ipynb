{
 "cells": [
  {
   "cell_type": "markdown",
   "id": "4f658049",
   "metadata": {},
   "source": [
    "## Tipo de datos y asignacion de valores"
   ]
  },
  {
   "cell_type": "markdown",
   "id": "73002700",
   "metadata": {},
   "source": [
    "### Type Integer"
   ]
  },
  {
   "cell_type": "code",
   "execution_count": 1,
   "id": "32e8cce8",
   "metadata": {},
   "outputs": [
    {
     "name": "stdout",
     "output_type": "stream",
     "text": [
      "3\n"
     ]
    }
   ],
   "source": [
    "entero_1 = 3\n",
    "\n",
    "print(entero_1)"
   ]
  },
  {
   "cell_type": "code",
   "execution_count": 5,
   "id": "86d28abb",
   "metadata": {},
   "outputs": [
    {
     "name": "stdout",
     "output_type": "stream",
     "text": [
      "4\n"
     ]
    }
   ],
   "source": [
    "a = 4\n",
    "\n",
    "print(a)"
   ]
  },
  {
   "cell_type": "code",
   "execution_count": 3,
   "id": "832bf3e6",
   "metadata": {},
   "outputs": [
    {
     "name": "stdout",
     "output_type": "stream",
     "text": [
      "3 4\n"
     ]
    }
   ],
   "source": [
    "a=3\n",
    "b=4\n",
    "\n",
    "print(a,b)"
   ]
  },
  {
   "cell_type": "code",
   "execution_count": null,
   "id": "11681835",
   "metadata": {},
   "outputs": [],
   "source": []
  },
  {
   "cell_type": "markdown",
   "id": "9f39a909",
   "metadata": {},
   "source": [
    "### Type  float  (with decimal) "
   ]
  },
  {
   "cell_type": "code",
   "execution_count": 4,
   "id": "d1785a12",
   "metadata": {},
   "outputs": [
    {
     "name": "stdout",
     "output_type": "stream",
     "text": [
      "6.1\n"
     ]
    }
   ],
   "source": [
    "x=2.5\n",
    "y=3.6\n",
    "\n",
    "print(x+y)"
   ]
  },
  {
   "cell_type": "code",
   "execution_count": null,
   "id": "8867a808",
   "metadata": {},
   "outputs": [],
   "source": []
  },
  {
   "cell_type": "code",
   "execution_count": null,
   "id": "96c191a2",
   "metadata": {},
   "outputs": [],
   "source": []
  },
  {
   "cell_type": "code",
   "execution_count": 6,
   "id": "5a6022e6",
   "metadata": {},
   "outputs": [
    {
     "name": "stdout",
     "output_type": "stream",
     "text": [
      "6.4142\n"
     ]
    }
   ],
   "source": [
    "x = 1.4142\n",
    "b = 5\n",
    "\n",
    "print(b + x)"
   ]
  },
  {
   "cell_type": "code",
   "execution_count": null,
   "id": "be1a62a4",
   "metadata": {},
   "outputs": [],
   "source": []
  },
  {
   "cell_type": "code",
   "execution_count": null,
   "id": "ae66e510",
   "metadata": {},
   "outputs": [],
   "source": []
  },
  {
   "cell_type": "code",
   "execution_count": null,
   "id": "37d2d08c",
   "metadata": {},
   "outputs": [],
   "source": []
  },
  {
   "cell_type": "markdown",
   "id": "250034d2",
   "metadata": {},
   "source": [
    "### Exercises "
   ]
  },
  {
   "cell_type": "code",
   "execution_count": 5,
   "id": "f55163a6",
   "metadata": {},
   "outputs": [],
   "source": [
    "# Exercise 1\n",
    "# Define data of a people"
   ]
  },
  {
   "cell_type": "code",
   "execution_count": null,
   "id": "c98e7efc",
   "metadata": {},
   "outputs": [],
   "source": [
    "nombre = 'Hegel'   #cadena\n",
    "edad = 53         #numerico entero\n",
    "sexo = 'M'        #caracter\n",
    "talla = 1.63      #numerico decimal\n",
    "\n"
   ]
  },
  {
   "cell_type": "code",
   "execution_count": null,
   "id": "a5973a2a",
   "metadata": {},
   "outputs": [],
   "source": []
  },
  {
   "cell_type": "code",
   "execution_count": 6,
   "id": "91cd1841",
   "metadata": {},
   "outputs": [],
   "source": [
    "# Exercise 2\n",
    "#Definir datos e imprimir tipo de datos"
   ]
  },
  {
   "cell_type": "code",
   "execution_count": 1,
   "id": "d63f9daf",
   "metadata": {},
   "outputs": [
    {
     "name": "stdout",
     "output_type": "stream",
     "text": [
      "10\n",
      "<class 'int'>\n",
      "\n",
      "\n",
      "2.5\n",
      "<class 'float'>\n",
      "\n",
      "\n",
      "c\n",
      "<class 'str'>\n",
      "\n",
      "\n",
      "Maria\n",
      "<class 'str'>\n",
      "\n",
      "\n",
      "Carlos\n",
      "<class 'str'>\n",
      "\n",
      "\n"
     ]
    }
   ],
   "source": [
    "entero = 10\n",
    "decimal = 2.5\n",
    "caracter = 'c'\n",
    "cadena1 = 'Maria'\n",
    "cadena2 = \"Carlos\"\n",
    "\n",
    "print(entero)\n",
    "print(type(entero))\n",
    "print(\"\\n\")\n",
    "\n",
    "print(decimal)\n",
    "print(type(decimal))\n",
    "print(\"\\n\")\n",
    "\n",
    "print(caracter)\n",
    "print(type(caracter))\n",
    "print(\"\\n\")\n",
    "\n",
    "print(cadena1)\n",
    "print(type(cadena1))\n",
    "print(\"\\n\")\n",
    "\n",
    "print(cadena2)\n",
    "print(type(cadena2))\n",
    "print(\"\\n\")"
   ]
  },
  {
   "cell_type": "code",
   "execution_count": 1,
   "id": "85cb3c25",
   "metadata": {},
   "outputs": [
    {
     "name": "stdout",
     "output_type": "stream",
     "text": [
      "A juan de niño le decian 'bad boy' por travieso\n"
     ]
    }
   ],
   "source": [
    "# Exercise 3\n",
    "\n",
    "#Dentro de una cadena mostrar una cadena entre comillas\n",
    "\n",
    "cadena = \"A juan de niño le decian 'bad boy' por travieso\"\n",
    "print(cadena)"
   ]
  },
  {
   "cell_type": "code",
   "execution_count": null,
   "id": "0ec9474b",
   "metadata": {},
   "outputs": [],
   "source": []
  },
  {
   "cell_type": "code",
   "execution_count": null,
   "id": "14000c4f",
   "metadata": {},
   "outputs": [],
   "source": []
  },
  {
   "cell_type": "code",
   "execution_count": null,
   "id": "c7dd9001",
   "metadata": {},
   "outputs": [],
   "source": []
  },
  {
   "cell_type": "code",
   "execution_count": null,
   "id": "5f7e8916",
   "metadata": {},
   "outputs": [],
   "source": []
  }
 ],
 "metadata": {
  "kernelspec": {
   "display_name": "Python 3 (ipykernel)",
   "language": "python",
   "name": "python3"
  },
  "language_info": {
   "codemirror_mode": {
    "name": "ipython",
    "version": 3
   },
   "file_extension": ".py",
   "mimetype": "text/x-python",
   "name": "python",
   "nbconvert_exporter": "python",
   "pygments_lexer": "ipython3",
   "version": "3.11.5"
  }
 },
 "nbformat": 4,
 "nbformat_minor": 5
}
